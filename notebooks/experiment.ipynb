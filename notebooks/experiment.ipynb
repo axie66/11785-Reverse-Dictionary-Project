{
 "cells": [
  {
   "cell_type": "code",
   "execution_count": 99,
   "metadata": {},
   "outputs": [],
   "source": [
    "import sys\n",
    "import torch\n",
    "import numpy as np\n",
    "import pandas as pd\n",
    "\n",
    "sys.path.append('/usr/local/lib/python3.8/site-packages/')\n",
    "import torchtext"
   ]
  },
  {
   "cell_type": "code",
   "execution_count": 18,
   "metadata": {},
   "outputs": [],
   "source": [
    "dict_data_path = '../data/dictionary/reverse-dict-singleton.tsv'\n",
    "\n",
    "glove_embed_dim = 50 # other options are 100, 200, 300\n",
    "glove_embed_path = f'../data/glove_embed/glove.6B.{glove_embed_dim}d.txt'"
   ]
  },
  {
   "cell_type": "code",
   "execution_count": 12,
   "metadata": {},
   "outputs": [],
   "source": [
    "# Load dictionary data\n",
    "dict_data = pd.read_csv(dict_data_path, sep='\\t', header=None)"
   ]
  },
  {
   "cell_type": "code",
   "execution_count": 15,
   "metadata": {},
   "outputs": [
    {
     "data": {
      "text/html": [
       "<div>\n",
       "<style scoped>\n",
       "    .dataframe tbody tr th:only-of-type {\n",
       "        vertical-align: middle;\n",
       "    }\n",
       "\n",
       "    .dataframe tbody tr th {\n",
       "        vertical-align: top;\n",
       "    }\n",
       "\n",
       "    .dataframe thead th {\n",
       "        text-align: right;\n",
       "    }\n",
       "</style>\n",
       "<table border=\"1\" class=\"dataframe\">\n",
       "  <thead>\n",
       "    <tr style=\"text-align: right;\">\n",
       "      <th></th>\n",
       "      <th>0</th>\n",
       "      <th>1</th>\n",
       "    </tr>\n",
       "  </thead>\n",
       "  <tbody>\n",
       "    <tr>\n",
       "      <th>0</th>\n",
       "      <td>.22-caliber</td>\n",
       "      <td>of or relating to the bore of a gun (or its am...</td>\n",
       "    </tr>\n",
       "    <tr>\n",
       "      <th>1</th>\n",
       "      <td>.22-calibre</td>\n",
       "      <td>of or relating to the bore of a gun (or its am...</td>\n",
       "    </tr>\n",
       "    <tr>\n",
       "      <th>2</th>\n",
       "      <td>.22_caliber</td>\n",
       "      <td>of or relating to the bore of a gun (or its am...</td>\n",
       "    </tr>\n",
       "    <tr>\n",
       "      <th>3</th>\n",
       "      <td>.22_calibre</td>\n",
       "      <td>of or relating to the bore of a gun (or its am...</td>\n",
       "    </tr>\n",
       "    <tr>\n",
       "      <th>4</th>\n",
       "      <td>.38-caliber</td>\n",
       "      <td>of or relating to the bore of a gun (or its am...</td>\n",
       "    </tr>\n",
       "  </tbody>\n",
       "</table>\n",
       "</div>"
      ],
      "text/plain": [
       "             0                                                  1\n",
       "0  .22-caliber  of or relating to the bore of a gun (or its am...\n",
       "1  .22-calibre  of or relating to the bore of a gun (or its am...\n",
       "2  .22_caliber  of or relating to the bore of a gun (or its am...\n",
       "3  .22_calibre  of or relating to the bore of a gun (or its am...\n",
       "4  .38-caliber  of or relating to the bore of a gun (or its am..."
      ]
     },
     "execution_count": 15,
     "metadata": {},
     "output_type": "execute_result"
    }
   ],
   "source": [
    "dict_data.head(5)"
   ]
  },
  {
   "cell_type": "code",
   "execution_count": 19,
   "metadata": {},
   "outputs": [
    {
     "name": "stderr",
     "output_type": "stream",
     "text": [
      "100%|█████████▉| 400000/400001 [00:11<00:00, 35331.98it/s]\n"
     ]
    }
   ],
   "source": [
    "# Load pretrained GloVe embeddings\n",
    "glove_embed = torchtext.vocab.Vectors(glove_embed_path)"
   ]
  },
  {
   "cell_type": "code",
   "execution_count": 33,
   "metadata": {},
   "outputs": [
    {
     "data": {
      "text/plain": [
       "tensor([[-1.0735, -0.5600,  0.5466, -0.4803, -0.2448,  0.9606,  0.0671,  0.5215,\n",
       "          0.6887,  0.2482,  0.4354, -0.8980,  0.5264,  0.8516, -1.0347, -0.9734,\n",
       "         -0.4571,  0.0364, -0.8753, -1.0254, -0.2804, -0.1455, -0.5470, -0.5499,\n",
       "          0.1977,  0.1307, -0.1276,  0.3804,  0.4866,  0.2864, -1.0666, -0.3158,\n",
       "          0.3660,  0.3191, -0.1315,  0.5860,  0.5309,  0.2319, -0.0744,  0.2468,\n",
       "          1.1335, -0.0796, -0.4461,  0.7638,  0.7927, -1.1476,  0.2690,  0.6993,\n",
       "          0.2323, -0.4295],\n",
       "        [ 0.2681,  0.1954, -0.8524,  0.1708,  0.4934,  0.1788, -1.1485, -1.5259,\n",
       "          0.3272, -0.4143,  0.3262,  1.0239,  0.5542,  0.3874,  1.0458,  0.3105,\n",
       "          0.0677, -0.1454, -1.2247,  0.8357,  0.0674,  0.4555,  0.4163,  0.3000,\n",
       "         -0.2766,  0.2840, -0.7809, -0.3603, -0.6686, -0.4047,  0.3373, -0.3918,\n",
       "          0.1391,  1.0417, -0.8919, -0.2836, -0.6314, -1.0775,  0.1857, -0.9852,\n",
       "          0.8577, -0.2593,  0.2592,  0.6400, -0.2766,  0.4561,  0.5695, -0.3686,\n",
       "         -0.8400, -0.2661],\n",
       "        [ 1.0670,  0.0635,  0.0190, -0.2202, -0.3577, -0.2743,  1.1317,  0.1006,\n",
       "          0.1467,  0.5671,  0.3560,  0.8850,  0.1475, -0.6863,  0.6969,  0.6689,\n",
       "         -0.1706,  0.0847,  0.6193,  0.0243,  0.5510, -0.4511, -0.3967, -0.9629,\n",
       "          0.0738,  0.8406,  0.4296, -0.1489,  0.9547, -0.3138, -0.8004,  1.7848,\n",
       "          0.0801,  0.7405, -0.7666,  0.1395, -0.5592,  0.3381, -0.1527, -0.4137,\n",
       "          0.3477, -0.6601,  0.2744,  0.7938, -0.7997, -0.7861,  1.1320,  1.0206,\n",
       "         -1.3335,  0.0809]])"
      ]
     },
     "execution_count": 33,
     "metadata": {},
     "output_type": "execute_result"
    }
   ],
   "source": [
    "glove_embed.get_vecs_by_tokens(['22-caliber', 'penguin', 'amortize'])"
   ]
  },
  {
   "cell_type": "code",
   "execution_count": 119,
   "metadata": {},
   "outputs": [],
   "source": [
    "class DictDataset(torch.utils.data.Dataset):\n",
    "    def __init__(self, definitions, embeddings, embedding_dim, tokenizer=None):\n",
    "        super(DictDataset, self).__init__()\n",
    "        if tokenizer is None:\n",
    "            tokenizer = torchtext.data.utils.get_tokenizer(\"basic_english\")\n",
    "        self.tokenizer = tokenizer\n",
    "        \n",
    "        self.embedding_dim = embedding_dim\n",
    "        self.embeddings = embeddings\n",
    "        \n",
    "        f = lambda x: not torch.all(embeddings.get_vecs_by_tokens([x]) == 0)\n",
    "        # Filter out words that do not have embeddings\n",
    "        self.definitions = definitions.loc[definitions[0].apply(f)]\n",
    "        self.definitions.index = pd.RangeIndex(len(self.definitions.index))\n",
    "        \n",
    "    def __getitem__(self, i):\n",
    "        word, def_text = self.definitions.loc[i] # definition, in plain text form\n",
    "        tokens = self.tokenizer(def_text)\n",
    "        return self.embeddings.get_vecs_by_tokens(tokens), self.embeddings.get_vecs_by_tokens([word])\n",
    "    \n",
    "    def __len__(self):\n",
    "        return len(self.definitions)\n",
    "    \n",
    "    @staticmethod\n",
    "    def collate_fn(self, batch):\n",
    "        batch.sort(key=lambda elem: len(elem[0]), reverse=True)\n",
    "        return torch.nn.utils.rnn.pack_sequence(batch)"
   ]
  },
  {
   "cell_type": "code",
   "execution_count": 120,
   "metadata": {},
   "outputs": [],
   "source": [
    "data = DictDataset(dict_data, glove_embed, 50)"
   ]
  },
  {
   "cell_type": "code",
   "execution_count": 121,
   "metadata": {},
   "outputs": [
    {
     "data": {
      "text/html": [
       "<div>\n",
       "<style scoped>\n",
       "    .dataframe tbody tr th:only-of-type {\n",
       "        vertical-align: middle;\n",
       "    }\n",
       "\n",
       "    .dataframe tbody tr th {\n",
       "        vertical-align: top;\n",
       "    }\n",
       "\n",
       "    .dataframe thead th {\n",
       "        text-align: right;\n",
       "    }\n",
       "</style>\n",
       "<table border=\"1\" class=\"dataframe\">\n",
       "  <thead>\n",
       "    <tr style=\"text-align: right;\">\n",
       "      <th></th>\n",
       "      <th>0</th>\n",
       "      <th>1</th>\n",
       "    </tr>\n",
       "  </thead>\n",
       "  <tbody>\n",
       "    <tr>\n",
       "      <th>0</th>\n",
       "      <td>1000th</td>\n",
       "      <td>the ordinal number of one thousand in counting...</td>\n",
       "    </tr>\n",
       "    <tr>\n",
       "      <th>1</th>\n",
       "      <td>100th</td>\n",
       "      <td>the ordinal number of one hundred in counting ...</td>\n",
       "    </tr>\n",
       "    <tr>\n",
       "      <th>2</th>\n",
       "      <td>101</td>\n",
       "      <td>being one more than one hundred</td>\n",
       "    </tr>\n",
       "    <tr>\n",
       "      <th>3</th>\n",
       "      <td>101st</td>\n",
       "      <td>the ordinal number of one hundred one in count...</td>\n",
       "    </tr>\n",
       "    <tr>\n",
       "      <th>4</th>\n",
       "      <td>105</td>\n",
       "      <td>being five more than one hundred</td>\n",
       "    </tr>\n",
       "    <tr>\n",
       "      <th>...</th>\n",
       "      <td>...</td>\n",
       "      <td>...</td>\n",
       "    </tr>\n",
       "    <tr>\n",
       "      <th>30821</th>\n",
       "      <td>winterize</td>\n",
       "      <td>prepare for winter</td>\n",
       "    </tr>\n",
       "    <tr>\n",
       "      <th>30822</th>\n",
       "      <td>woosh</td>\n",
       "      <td>move with a sibilant sound</td>\n",
       "    </tr>\n",
       "    <tr>\n",
       "      <th>30823</th>\n",
       "      <td>wreak</td>\n",
       "      <td>cause to happen or to occur as a consequence</td>\n",
       "    </tr>\n",
       "    <tr>\n",
       "      <th>30824</th>\n",
       "      <td>wrest</td>\n",
       "      <td>obtain by seizing forcibly or violently, also ...</td>\n",
       "    </tr>\n",
       "    <tr>\n",
       "      <th>30825</th>\n",
       "      <td>writhe</td>\n",
       "      <td>to move in a twisting or contorted motion, (es...</td>\n",
       "    </tr>\n",
       "  </tbody>\n",
       "</table>\n",
       "<p>30826 rows × 2 columns</p>\n",
       "</div>"
      ],
      "text/plain": [
       "               0                                                  1\n",
       "0         1000th  the ordinal number of one thousand in counting...\n",
       "1          100th  the ordinal number of one hundred in counting ...\n",
       "2            101                    being one more than one hundred\n",
       "3          101st  the ordinal number of one hundred one in count...\n",
       "4            105                   being five more than one hundred\n",
       "...          ...                                                ...\n",
       "30821  winterize                                 prepare for winter\n",
       "30822      woosh                         move with a sibilant sound\n",
       "30823      wreak       cause to happen or to occur as a consequence\n",
       "30824      wrest  obtain by seizing forcibly or violently, also ...\n",
       "30825     writhe  to move in a twisting or contorted motion, (es...\n",
       "\n",
       "[30826 rows x 2 columns]"
      ]
     },
     "execution_count": 121,
     "metadata": {},
     "output_type": "execute_result"
    }
   ],
   "source": [
    "data.definitions"
   ]
  },
  {
   "cell_type": "code",
   "execution_count": 124,
   "metadata": {},
   "outputs": [],
   "source": [
    "loader = torch.utils.data.DataLoader(data, shuffle=True, batch_size=1, collate_fn=DictDataset.collate_fn)"
   ]
  },
  {
   "cell_type": "code",
   "execution_count": 126,
   "metadata": {},
   "outputs": [
    {
     "name": "stdout",
     "output_type": "stream",
     "text": [
      "torch.Size([1, 21, 50]) torch.Size([1, 1, 50])\n",
      "torch.Size([1, 14, 50]) torch.Size([1, 1, 50])\n",
      "torch.Size([1, 30, 50]) torch.Size([1, 1, 50])\n"
     ]
    }
   ],
   "source": [
    "for _, (x, y) in zip(range(3), loader):\n",
    "    print(x.shape, y.shape)"
   ]
  },
  {
   "cell_type": "code",
   "execution_count": null,
   "metadata": {},
   "outputs": [],
   "source": []
  },
  {
   "cell_type": "code",
   "execution_count": null,
   "metadata": {},
   "outputs": [],
   "source": []
  },
  {
   "cell_type": "code",
   "execution_count": null,
   "metadata": {},
   "outputs": [],
   "source": []
  }
 ],
 "metadata": {
  "kernelspec": {
   "display_name": "Python 3.8.0 64-bit",
   "language": "python",
   "name": "python38064bit7cbf060f8ed4487591d975d6fad0a650"
  },
  "language_info": {
   "codemirror_mode": {
    "name": "ipython",
    "version": 3
   },
   "file_extension": ".py",
   "mimetype": "text/x-python",
   "name": "python",
   "nbconvert_exporter": "python",
   "pygments_lexer": "ipython3",
   "version": "3.8.0"
  }
 },
 "nbformat": 4,
 "nbformat_minor": 2
}
