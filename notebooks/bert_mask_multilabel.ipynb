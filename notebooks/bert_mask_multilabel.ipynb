{
 "cells": [
  {
   "cell_type": "code",
   "execution_count": 1,
   "metadata": {},
   "outputs": [],
   "source": [
    "import torch\n",
    "from torch import nn\n",
    "from torch.utils import data\n",
    "from torch.cuda.amp import autocast, GradScaler\n",
    "\n",
    "import numpy as np\n",
    "from tqdm.notebook import tqdm\n",
    "\n",
    "import sys\n",
    "import datetime\n",
    "\n",
    "sys.path.append('../code')\n",
    "from dataset import get_data, MaskedDataset, make_vocab, read_json\n",
    "\n",
    "from transformers import (\n",
    "    AdamW, get_linear_schedule_with_warmup\n",
    ")\n",
    "\n",
    "from models import MaskedRDModel"
   ]
  },
  {
   "cell_type": "code",
   "execution_count": 2,
   "metadata": {},
   "outputs": [
    {
     "name": "stderr",
     "output_type": "stream",
     "text": [
      "Using cache found in /home/ubuntu/.cache/torch/hub/huggingface_pytorch-transformers_master\n"
     ]
    }
   ],
   "source": [
    "tokenizer = torch.hub.load('huggingface/pytorch-transformers', 'tokenizer', 'bert-base-uncased')"
   ]
  },
  {
   "cell_type": "code",
   "execution_count": 3,
   "metadata": {},
   "outputs": [
    {
     "name": "stdout",
     "output_type": "stream",
     "text": [
      "Loading data...\n",
      "Training data: 675715 word-def pairs\n",
      "Dev data: 75873 word-def pairs\n",
      "Test data: 1200 word-def pairs\n"
     ]
    }
   ],
   "source": [
    "d = get_data('../wantwords-english-baseline/data', word2vec=False)"
   ]
  },
  {
   "cell_type": "code",
   "execution_count": 4,
   "metadata": {},
   "outputs": [],
   "source": [
    "train_data, train_data_def, dev_data, test_data_seen, \\\n",
    "    test_data_unseen, test_data_desc = d"
   ]
  },
  {
   "cell_type": "code",
   "execution_count": 6,
   "metadata": {
    "tags": []
   },
   "outputs": [],
   "source": [
    "mask_size = 5\n",
    "target_matrix, target2idx, idx2target = make_vocab(d, tokenizer, mask_size=mask_size)"
   ]
  },
  {
   "cell_type": "code",
   "execution_count": 7,
   "metadata": {},
   "outputs": [
    {
     "name": "stderr",
     "output_type": "stream",
     "text": [
      "Some weights of the model checkpoint at bert-base-uncased were not used when initializing MaskedRDModel: ['cls.seq_relationship.weight', 'cls.seq_relationship.bias']\n",
      "- This IS expected if you are initializing MaskedRDModel from the checkpoint of a model trained on another task or with another architecture (e.g. initializing a BertForSequenceClassification model from a BertForPreTraining model).\n",
      "- This IS NOT expected if you are initializing MaskedRDModel from the checkpoint of a model that you expect to be exactly identical (initializing a BertForSequenceClassification model from a BertForSequenceClassification model).\n"
     ]
    }
   ],
   "source": [
    "model = MaskedRDModel.from_pretrained('bert-base-uncased')\n",
    "model.initialize(mask_size=mask_size, multilabel=True, ww_vocab_size=len(target2idx), pos_weight=5)"
   ]
  },
  {
   "cell_type": "code",
   "execution_count": 8,
   "metadata": {},
   "outputs": [
    {
     "data": {
      "text/plain": [
       "(16187, tensor([2338,  103,  103,  103,  103]), 'book')"
      ]
     },
     "execution_count": 8,
     "metadata": {},
     "output_type": "execute_result"
    }
   ],
   "source": [
    "# target2idx maps target words to indices\n",
    "# target_matrix maps target indices to bpe sequences, padded/truncated to mask_size\n",
    "target2idx['book'], target_matrix[target2idx['book']], idx2target[target2idx['book']]"
   ]
  },
  {
   "cell_type": "code",
   "execution_count": 9,
   "metadata": {},
   "outputs": [],
   "source": [
    "wn_data = read_json('../data/wn_data.json')\n",
    "wn_categories = ['synonyms', 'hyponyms', 'hypernyms', 'related_forms']"
   ]
  },
  {
   "cell_type": "code",
   "execution_count": 10,
   "metadata": {},
   "outputs": [],
   "source": [
    "train_dataset = MaskedDataset(train_data + train_data_def, tokenizer, target2idx, wn_data=wn_data, wn_categories=wn_categories, mask_size=mask_size)"
   ]
  },
  {
   "cell_type": "code",
   "execution_count": 11,
   "metadata": {},
   "outputs": [],
   "source": [
    "dev_dataset = MaskedDataset(dev_data, tokenizer, target2idx, \n",
    "                            wn_data=wn_data, wn_categories=wn_categories, mask_size=mask_size)\n",
    "test_dataset_seen = MaskedDataset(test_data_seen, tokenizer, target2idx, \n",
    "                                  wn_data=wn_data, wn_categories=wn_categories, mask_size=mask_size)\n",
    "test_dataset_unseen = MaskedDataset(test_data_unseen, tokenizer, target2idx, \n",
    "                                    wn_data=wn_data, wn_categories=wn_categories, mask_size=mask_size)\n",
    "test_dataset_desc = MaskedDataset(test_data_desc, tokenizer, target2idx, \n",
    "                                  wn_data=wn_data, wn_categories=wn_categories, mask_size=mask_size)"
   ]
  },
  {
   "cell_type": "code",
   "execution_count": 12,
   "metadata": {},
   "outputs": [
    {
     "data": {
      "text/plain": [
       "(['classic',\n",
       "  'authorized',\n",
       "  'importance',\n",
       "  'authoritative',\n",
       "  'classical',\n",
       "  'definitive',\n",
       "  'important'],\n",
       " 'authoritative')"
      ]
     },
     "execution_count": 12,
     "metadata": {},
     "output_type": "execute_result"
    }
   ],
   "source": [
    "index = 1593\n",
    "\n",
    "[idx2target[x] for x in dev_dataset[index][-1].coalesce().indices().squeeze(0)], idx2target[dev_dataset[index][1]]"
   ]
  },
  {
   "cell_type": "code",
   "execution_count": 13,
   "metadata": {},
   "outputs": [],
   "source": [
    "batch_size = 40\n",
    "num_workers = 0\n",
    "\n",
    "loader_params = {\n",
    "    'pin_memory': False,\n",
    "    'batch_size': batch_size,\n",
    "    'num_workers': num_workers,\n",
    "    'collate_fn': train_dataset.collate_fn\n",
    "}\n",
    "\n",
    "train_loader = data.DataLoader(train_dataset, **{'shuffle': True, **loader_params})\n",
    "dev_loader = data.DataLoader(dev_dataset, **{'shuffle': True, **loader_params})\n",
    "test_loader_seen = data.DataLoader(test_dataset_seen, **{'shuffle': False, **loader_params})\n",
    "test_loader_unseen = data.DataLoader(test_dataset_unseen, **{'shuffle': False, **loader_params})\n",
    "test_loader_desc = data.DataLoader(test_dataset_desc, **{'shuffle': False, **loader_params})"
   ]
  },
  {
   "cell_type": "code",
   "execution_count": 14,
   "metadata": {},
   "outputs": [],
   "source": [
    "# Starting from epoch 2\n",
    "# weight_gt = 10\n",
    "# epochs = 9\n",
    "# lr = 1e-5 * 0.905\n",
    "# optim = AdamW(model.parameters(), lr=lr)\n",
    "# scheduler = get_linear_schedule_with_warmup(optim, num_warmup_steps=1, \n",
    "#                                             num_training_steps=len(train_loader) * epochs)\n",
    "# epoch = 0\n",
    "# device = torch.device('cuda' if torch.cuda.is_available() else 'cpu')"
   ]
  },
  {
   "cell_type": "code",
   "execution_count": 15,
   "metadata": {},
   "outputs": [],
   "source": [
    "epochs = 10\n",
    "\n",
    "lr = 1e-5\n",
    "optim = AdamW(model.parameters(), lr=lr)\n",
    "\n",
    "warmup_duration = 0.05 # portion of the first epoch spent on lr warmup\n",
    "scheduler = get_linear_schedule_with_warmup(optim, num_warmup_steps=len(train_loader) * warmup_duration, \n",
    "                                            num_training_steps=len(train_loader) * epochs)\n",
    "\n",
    "epoch = 0\n",
    "\n",
    "device = torch.device('cuda' if torch.cuda.is_available() else 'cpu')\n",
    "\n",
    "scaler = GradScaler()"
   ]
  },
  {
   "cell_type": "code",
   "execution_count": 16,
   "metadata": {},
   "outputs": [
    {
     "name": "stderr",
     "output_type": "stream",
     "text": [
      "Failed to detect the name of this notebook, you can set it manually with the WANDB_NOTEBOOK_NAME environment variable to enable code saving.\n",
      "\u001b[34m\u001b[1mwandb\u001b[0m: Currently logged in as: \u001b[33mreverse-dict\u001b[0m (use `wandb login --relogin` to force relogin)\n"
     ]
    },
    {
     "data": {
      "text/html": [
       "\n",
       "                Tracking run with wandb version 0.10.28<br/>\n",
       "                Syncing run <strong style=\"color:#cdcd00\">radiant-water-43</strong> to <a href=\"https://wandb.ai\" target=\"_blank\">Weights & Biases</a> <a href=\"https://docs.wandb.com/integrations/jupyter.html\" target=\"_blank\">(Documentation)</a>.<br/>\n",
       "                Project page: <a href=\"https://wandb.ai/reverse-dict/reverse-dictionary\" target=\"_blank\">https://wandb.ai/reverse-dict/reverse-dictionary</a><br/>\n",
       "                Run page: <a href=\"https://wandb.ai/reverse-dict/reverse-dictionary/runs/1amo93v5\" target=\"_blank\">https://wandb.ai/reverse-dict/reverse-dictionary/runs/1amo93v5</a><br/>\n",
       "                Run data is saved locally in <code>/home/ubuntu/dl/11785-Reverse-Dictionary-Project/notebooks/wandb/run-20210504_004412-1amo93v5</code><br/><br/>\n",
       "            "
      ],
      "text/plain": [
       "<IPython.core.display.HTML object>"
      ]
     },
     "metadata": {},
     "output_type": "display_data"
    }
   ],
   "source": [
    "import wandb\n",
    "\n",
    "wandb.init(project='reverse-dictionary', entity='reverse-dict')\n",
    "\n",
    "config = wandb.config\n",
    "config.learning_rate = lr\n",
    "config.epochs = epochs\n",
    "config.batch_size = batch_size\n",
    "config.optimizer = type(optim).__name__\n",
    "config.scheduler = type(scheduler).__name__\n",
    "# config.warmup_duration = warmup_duration\n",
    "\n",
    "# wandb.watch(model)"
   ]
  },
  {
   "cell_type": "code",
   "execution_count": 17,
   "metadata": {},
   "outputs": [],
   "source": [
    "target_matrix = target_matrix.to(device)"
   ]
  },
  {
   "cell_type": "code",
   "execution_count": 18,
   "metadata": {},
   "outputs": [],
   "source": [
    "model = model.to(device)"
   ]
  },
  {
   "cell_type": "code",
   "execution_count": 19,
   "metadata": {},
   "outputs": [],
   "source": [
    "def evaluate(pred, gt, test=False):\n",
    "    acc1 = acc10 = acc100 = 0\n",
    "    n = len(pred)\n",
    "    pred_rank = []\n",
    "    for p, word in zip(pred, gt):\n",
    "        if test:\n",
    "            loc = (p == word).nonzero(as_tuple=True)\n",
    "            if len(loc) != 0:\n",
    "                pred_rank.append(min(loc[-1], 1000))\n",
    "            else:\n",
    "                pred_rank.append(1000)\n",
    "        if word in p[:100]:\n",
    "            acc100 += 1\n",
    "            if word in p[:10]:\n",
    "                acc10 += 1\n",
    "                if word == p[0]:\n",
    "                    acc1 += 1\n",
    "    if test:\n",
    "        pred_rank = torch.tensor(pred_rank, dtype=torch.float32)\n",
    "        return (acc1, acc10, acc100, pred_rank)\n",
    "    else:\n",
    "        return acc1/n, acc10/n, acc100/n"
   ]
  },
  {
   "cell_type": "code",
   "execution_count": 20,
   "metadata": {},
   "outputs": [],
   "source": [
    "def test(loader, name, log=False):\n",
    "    inc = 3\n",
    "    model.eval()\n",
    "    test_loss = 0.0\n",
    "    test_acc1 = test_acc10 = test_acc100 = test_rank_median = test_rank_variance = 0.0\n",
    "    total_seen = 0\n",
    "    all_pred = []\n",
    "    with torch.no_grad():\n",
    "        with tqdm(total=len(loader)) as pbar:\n",
    "            for i, (x,y, wn_ids) in enumerate(loader):\n",
    "                if i % inc == 0 and i != 0:\n",
    "                    display_loss = test_loss / i\n",
    "                    pbar.set_description(f'Test Loss: {display_loss}')\n",
    "\n",
    "                x = x.to(device)\n",
    "                attention_mask = (x != train_dataset.pad_id)\n",
    "                y = y.to(device)\n",
    "                wn_ids = wn_ids.to_dense().to(device).float()\n",
    "\n",
    "#                 with autocast():\n",
    "                loss, out = model(input_ids=x, attention_mask=attention_mask, \n",
    "                                  target_matrix=target_matrix, ground_truth=y,\n",
    "                                  wn_ids=wn_ids, weight_gt=weight_gt)\n",
    "\n",
    "                test_loss += loss.detach()\n",
    "\n",
    "                pbar.update(1)\n",
    "\n",
    "                result, indices = torch.sort(out, descending=True)\n",
    "                \n",
    "                b = len(x)\n",
    "                acc1, acc10, acc100, pred_rank = evaluate(indices, y, test=True)\n",
    "                test_acc1 += acc1\n",
    "                test_acc10 += acc10\n",
    "                test_acc100 += acc100\n",
    "                total_seen += b\n",
    "                all_pred.extend(pred_rank)\n",
    "                \n",
    "                del x, y, out, loss\n",
    "                if i % 20 == 0:\n",
    "                    torch.cuda.empty_cache()\n",
    "    \n",
    "    test_loss /= len(loader)\n",
    "    test_acc1 /= total_seen\n",
    "    test_acc10 /= total_seen\n",
    "    test_acc100 /= total_seen\n",
    "    all_pred = torch.tensor(all_pred)\n",
    "    median = torch.median(all_pred)\n",
    "    var = torch.var(all_pred)**0.5\n",
    "    \n",
    "    print(f'{name}_test_loss:', test_loss)\n",
    "    print(f'{name}_test_acc1:', test_acc1)\n",
    "    print(f'{name}_test_acc10:', test_acc10)\n",
    "    print(f'{name}_test_acc100:', test_acc100)\n",
    "    print(f'{name}_test_rank_median:', median)\n",
    "    print(f'{name}_test_rank_variance', var)\n",
    "    \n",
    "    return {\n",
    "            f'{name}_test_loss': test_loss,\n",
    "            f'{name}_test_acc1': test_acc1,\n",
    "            f'{name}_test_acc10': test_acc10,\n",
    "            f'{name}_test_acc100': test_acc100,\n",
    "            f'{name}_test_rank_median': median,\n",
    "            f'{name}_test_rank_variance': var\n",
    "           }\n",
    "    "
   ]
  },
  {
   "cell_type": "code",
   "execution_count": 21,
   "metadata": {
    "scrolled": false
   },
   "outputs": [
    {
     "name": "stdout",
     "output_type": "stream",
     "text": [
      "Training beginning!\n"
     ]
    },
    {
     "data": {
      "application/vnd.jupyter.widget-view+json": {
       "model_id": "6aea92fe7f1a4279bdf0348ae5d45fc3",
       "version_major": 2,
       "version_minor": 0
      },
      "text/plain": [
       "  0%|          | 0/16893 [00:00<?, ?it/s]"
      ]
     },
     "metadata": {},
     "output_type": "display_data"
    },
    {
     "data": {
      "application/vnd.jupyter.widget-view+json": {
       "model_id": "bb35aaa73b1049ef8897ef8de6273711",
       "version_major": 2,
       "version_minor": 0
      },
      "text/plain": [
       "  0%|          | 0/1897 [00:00<?, ?it/s]"
      ]
     },
     "metadata": {},
     "output_type": "display_data"
    },
    {
     "data": {
      "application/vnd.jupyter.widget-view+json": {
       "model_id": "a3d9674b93ac4d6180f80f9c4ce41a4a",
       "version_major": 2,
       "version_minor": 0
      },
      "text/plain": [
       "  0%|          | 0/13 [00:00<?, ?it/s]"
      ]
     },
     "metadata": {},
     "output_type": "display_data"
    },
    {
     "name": "stdout",
     "output_type": "stream",
     "text": [
      "seen_test_loss: tensor(345.4165, device='cuda:0')\n",
      "seen_test_acc1: 0.126\n",
      "seen_test_acc10: 0.384\n",
      "seen_test_acc100: 0.598\n",
      "seen_test_rank_median: tensor(38.)\n",
      "seen_test_rank_variance tensor(402.9168)\n"
     ]
    },
    {
     "data": {
      "application/vnd.jupyter.widget-view+json": {
       "model_id": "4aaedf5b1d984f5fb16f2699c495b0ac",
       "version_major": 2,
       "version_minor": 0
      },
      "text/plain": [
       "  0%|          | 0/13 [00:00<?, ?it/s]"
      ]
     },
     "metadata": {},
     "output_type": "display_data"
    },
    {
     "name": "stdout",
     "output_type": "stream",
     "text": [
      "unseen_test_loss: tensor(429.6845, device='cuda:0')\n",
      "unseen_test_acc1: 0.134\n",
      "unseen_test_acc10: 0.308\n",
      "unseen_test_acc100: 0.502\n",
      "unseen_test_rank_median: tensor(88.)\n",
      "unseen_test_rank_variance tensor(421.5570)\n"
     ]
    },
    {
     "data": {
      "application/vnd.jupyter.widget-view+json": {
       "model_id": "a880785282eb4c969011099e084b1df1",
       "version_major": 2,
       "version_minor": 0
      },
      "text/plain": [
       "  0%|          | 0/5 [00:00<?, ?it/s]"
      ]
     },
     "metadata": {},
     "output_type": "display_data"
    },
    {
     "name": "stdout",
     "output_type": "stream",
     "text": [
      "desc_test_loss: tensor(603.5402, device='cuda:0')\n",
      "desc_test_acc1: 0.25\n",
      "desc_test_acc10: 0.74\n",
      "desc_test_acc100: 0.965\n",
      "desc_test_rank_median: tensor(2.)\n",
      "desc_test_rank_variance tensor(43.4395)\n"
     ]
    },
    {
     "data": {
      "application/vnd.jupyter.widget-view+json": {
       "model_id": "5a6ed989fc7f4c46a6e1557a8605498d",
       "version_major": 2,
       "version_minor": 0
      },
      "text/plain": [
       "  0%|          | 0/16893 [00:00<?, ?it/s]"
      ]
     },
     "metadata": {},
     "output_type": "display_data"
    },
    {
     "data": {
      "application/vnd.jupyter.widget-view+json": {
       "model_id": "acf0f8ad0c8441bdb1070a6c8342c095",
       "version_major": 2,
       "version_minor": 0
      },
      "text/plain": [
       "  0%|          | 0/1897 [00:00<?, ?it/s]"
      ]
     },
     "metadata": {},
     "output_type": "display_data"
    },
    {
     "data": {
      "application/vnd.jupyter.widget-view+json": {
       "model_id": "b34805146fba458e9661dd37bf65dbc4",
       "version_major": 2,
       "version_minor": 0
      },
      "text/plain": [
       "  0%|          | 0/13 [00:00<?, ?it/s]"
      ]
     },
     "metadata": {},
     "output_type": "display_data"
    },
    {
     "name": "stdout",
     "output_type": "stream",
     "text": [
      "seen_test_loss: tensor(302.7310, device='cuda:0')\n",
      "seen_test_acc1: 0.15\n",
      "seen_test_acc10: 0.46\n",
      "seen_test_acc100: 0.698\n",
      "seen_test_rank_median: tensor(12.)\n",
      "seen_test_rank_variance tensor(349.5500)\n"
     ]
    },
    {
     "data": {
      "application/vnd.jupyter.widget-view+json": {
       "model_id": "847e3ef00c0646ac8b0e484eefba9743",
       "version_major": 2,
       "version_minor": 0
      },
      "text/plain": [
       "  0%|          | 0/13 [00:00<?, ?it/s]"
      ]
     },
     "metadata": {},
     "output_type": "display_data"
    },
    {
     "name": "stdout",
     "output_type": "stream",
     "text": [
      "unseen_test_loss: tensor(404.0241, device='cuda:0')\n",
      "unseen_test_acc1: 0.13\n",
      "unseen_test_acc10: 0.326\n",
      "unseen_test_acc100: 0.564\n",
      "unseen_test_rank_median: tensor(52.)\n",
      "unseen_test_rank_variance tensor(402.2183)\n"
     ]
    },
    {
     "data": {
      "application/vnd.jupyter.widget-view+json": {
       "model_id": "4ca75e0bdeaa4807a2910f73d7211134",
       "version_major": 2,
       "version_minor": 0
      },
      "text/plain": [
       "  0%|          | 0/5 [00:00<?, ?it/s]"
      ]
     },
     "metadata": {},
     "output_type": "display_data"
    },
    {
     "name": "stdout",
     "output_type": "stream",
     "text": [
      "desc_test_loss: tensor(566.8254, device='cuda:0')\n",
      "desc_test_acc1: 0.275\n",
      "desc_test_acc10: 0.715\n",
      "desc_test_acc100: 0.95\n",
      "desc_test_rank_median: tensor(2.)\n",
      "desc_test_rank_variance tensor(64.9332)\n"
     ]
    },
    {
     "data": {
      "application/vnd.jupyter.widget-view+json": {
       "model_id": "0173290689d843919d20a793f07d18b2",
       "version_major": 2,
       "version_minor": 0
      },
      "text/plain": [
       "  0%|          | 0/16893 [00:00<?, ?it/s]"
      ]
     },
     "metadata": {},
     "output_type": "display_data"
    },
    {
     "data": {
      "application/vnd.jupyter.widget-view+json": {
       "model_id": "c76771b82c2b4696adfa5770ae653223",
       "version_major": 2,
       "version_minor": 0
      },
      "text/plain": [
       "  0%|          | 0/1897 [00:00<?, ?it/s]"
      ]
     },
     "metadata": {},
     "output_type": "display_data"
    },
    {
     "data": {
      "application/vnd.jupyter.widget-view+json": {
       "model_id": "e4e8ea08dc294506bf22d2ee03bc9ee5",
       "version_major": 2,
       "version_minor": 0
      },
      "text/plain": [
       "  0%|          | 0/13 [00:00<?, ?it/s]"
      ]
     },
     "metadata": {},
     "output_type": "display_data"
    },
    {
     "name": "stdout",
     "output_type": "stream",
     "text": [
      "seen_test_loss: tensor(273.3678, device='cuda:0')\n",
      "seen_test_acc1: 0.166\n",
      "seen_test_acc10: 0.53\n",
      "seen_test_acc100: 0.758\n",
      "seen_test_rank_median: tensor(7.)\n",
      "seen_test_rank_variance tensor(316.4328)\n"
     ]
    },
    {
     "data": {
      "application/vnd.jupyter.widget-view+json": {
       "model_id": "bbf44f03638b44d0b6ab806e3f039275",
       "version_major": 2,
       "version_minor": 0
      },
      "text/plain": [
       "  0%|          | 0/13 [00:00<?, ?it/s]"
      ]
     },
     "metadata": {},
     "output_type": "display_data"
    },
    {
     "name": "stdout",
     "output_type": "stream",
     "text": [
      "unseen_test_loss: tensor(388.8712, device='cuda:0')\n",
      "unseen_test_acc1: 0.118\n",
      "unseen_test_acc10: 0.352\n",
      "unseen_test_acc100: 0.602\n",
      "unseen_test_rank_median: tensor(37.)\n",
      "unseen_test_rank_variance tensor(391.6554)\n"
     ]
    },
    {
     "data": {
      "application/vnd.jupyter.widget-view+json": {
       "model_id": "ea9341770c384e61af625ad46b200495",
       "version_major": 2,
       "version_minor": 0
      },
      "text/plain": [
       "  0%|          | 0/5 [00:00<?, ?it/s]"
      ]
     },
     "metadata": {},
     "output_type": "display_data"
    },
    {
     "name": "stdout",
     "output_type": "stream",
     "text": [
      "desc_test_loss: tensor(538.9657, device='cuda:0')\n",
      "desc_test_acc1: 0.265\n",
      "desc_test_acc10: 0.765\n",
      "desc_test_acc100: 0.94\n",
      "desc_test_rank_median: tensor(3.)\n",
      "desc_test_rank_variance tensor(86.7461)\n"
     ]
    },
    {
     "data": {
      "application/vnd.jupyter.widget-view+json": {
       "model_id": "d7be3fff64254ae2a2b67e87f66623e2",
       "version_major": 2,
       "version_minor": 0
      },
      "text/plain": [
       "  0%|          | 0/16893 [00:00<?, ?it/s]"
      ]
     },
     "metadata": {},
     "output_type": "display_data"
    },
    {
     "name": "stderr",
     "output_type": "stream",
     "text": [
      "IOPub message rate exceeded.\n",
      "The notebook server will temporarily stop sending output\n",
      "to the client in order to avoid crashing it.\n",
      "To change this limit, set the config variable\n",
      "`--NotebookApp.iopub_msg_rate_limit`.\n",
      "\n",
      "Current values:\n",
      "NotebookApp.iopub_msg_rate_limit=1000.0 (msgs/sec)\n",
      "NotebookApp.rate_limit_window=3.0 (secs)\n",
      "\n",
      "IOPub message rate exceeded.\n",
      "The notebook server will temporarily stop sending output\n",
      "to the client in order to avoid crashing it.\n",
      "To change this limit, set the config variable\n",
      "`--NotebookApp.iopub_msg_rate_limit`.\n",
      "\n",
      "Current values:\n",
      "NotebookApp.iopub_msg_rate_limit=1000.0 (msgs/sec)\n",
      "NotebookApp.rate_limit_window=3.0 (secs)\n",
      "\n",
      "IOPub message rate exceeded.\n",
      "The notebook server will temporarily stop sending output\n",
      "to the client in order to avoid crashing it.\n",
      "To change this limit, set the config variable\n",
      "`--NotebookApp.iopub_msg_rate_limit`.\n",
      "\n",
      "Current values:\n",
      "NotebookApp.iopub_msg_rate_limit=1000.0 (msgs/sec)\n",
      "NotebookApp.rate_limit_window=3.0 (secs)\n",
      "\n",
      "IOPub message rate exceeded.\n",
      "The notebook server will temporarily stop sending output\n",
      "to the client in order to avoid crashing it.\n",
      "To change this limit, set the config variable\n",
      "`--NotebookApp.iopub_msg_rate_limit`.\n",
      "\n",
      "Current values:\n",
      "NotebookApp.iopub_msg_rate_limit=1000.0 (msgs/sec)\n",
      "NotebookApp.rate_limit_window=3.0 (secs)\n",
      "\n",
      "IOPub message rate exceeded.\n",
      "The notebook server will temporarily stop sending output\n",
      "to the client in order to avoid crashing it.\n",
      "To change this limit, set the config variable\n",
      "`--NotebookApp.iopub_msg_rate_limit`.\n",
      "\n",
      "Current values:\n",
      "NotebookApp.iopub_msg_rate_limit=1000.0 (msgs/sec)\n",
      "NotebookApp.rate_limit_window=3.0 (secs)\n",
      "\n"
     ]
    },
    {
     "data": {
      "application/vnd.jupyter.widget-view+json": {
       "model_id": "392a3c59a1534e1ba3e447a11a0e3140",
       "version_major": 2,
       "version_minor": 0
      },
      "text/plain": [
       "  0%|          | 0/1897 [00:00<?, ?it/s]"
      ]
     },
     "metadata": {},
     "output_type": "display_data"
    },
    {
     "name": "stderr",
     "output_type": "stream",
     "text": [
      "IOPub message rate exceeded.\n",
      "The notebook server will temporarily stop sending output\n",
      "to the client in order to avoid crashing it.\n",
      "To change this limit, set the config variable\n",
      "`--NotebookApp.iopub_msg_rate_limit`.\n",
      "\n",
      "Current values:\n",
      "NotebookApp.iopub_msg_rate_limit=1000.0 (msgs/sec)\n",
      "NotebookApp.rate_limit_window=3.0 (secs)\n",
      "\n",
      "IOPub message rate exceeded.\n",
      "The notebook server will temporarily stop sending output\n",
      "to the client in order to avoid crashing it.\n",
      "To change this limit, set the config variable\n",
      "`--NotebookApp.iopub_msg_rate_limit`.\n",
      "\n",
      "Current values:\n",
      "NotebookApp.iopub_msg_rate_limit=1000.0 (msgs/sec)\n",
      "NotebookApp.rate_limit_window=3.0 (secs)\n",
      "\n",
      "IOPub message rate exceeded.\n",
      "The notebook server will temporarily stop sending output\n",
      "to the client in order to avoid crashing it.\n",
      "To change this limit, set the config variable\n",
      "`--NotebookApp.iopub_msg_rate_limit`.\n",
      "\n",
      "Current values:\n",
      "NotebookApp.iopub_msg_rate_limit=1000.0 (msgs/sec)\n",
      "NotebookApp.rate_limit_window=3.0 (secs)\n",
      "\n",
      "IOPub message rate exceeded.\n",
      "The notebook server will temporarily stop sending output\n",
      "to the client in order to avoid crashing it.\n",
      "To change this limit, set the config variable\n",
      "`--NotebookApp.iopub_msg_rate_limit`.\n",
      "\n",
      "Current values:\n",
      "NotebookApp.iopub_msg_rate_limit=1000.0 (msgs/sec)\n",
      "NotebookApp.rate_limit_window=3.0 (secs)\n",
      "\n"
     ]
    },
    {
     "data": {
      "application/vnd.jupyter.widget-view+json": {
       "model_id": "deded6218c5a4f74ae95c44f01adff1c",
       "version_major": 2,
       "version_minor": 0
      },
      "text/plain": [
       "  0%|          | 0/13 [00:00<?, ?it/s]"
      ]
     },
     "metadata": {},
     "output_type": "display_data"
    },
    {
     "name": "stdout",
     "output_type": "stream",
     "text": [
      "seen_test_loss: tensor(230.8112, device='cuda:0')\n",
      "seen_test_acc1: 0.226\n",
      "seen_test_acc10: 0.64\n",
      "seen_test_acc100: 0.854\n",
      "seen_test_rank_median: tensor(3.)\n",
      "seen_test_rank_variance tensor(261.0100)\n"
     ]
    },
    {
     "data": {
      "application/vnd.jupyter.widget-view+json": {
       "model_id": "e45f3a07019d492fbb41cd7203f0006b",
       "version_major": 2,
       "version_minor": 0
      },
      "text/plain": [
       "  0%|          | 0/13 [00:00<?, ?it/s]"
      ]
     },
     "metadata": {},
     "output_type": "display_data"
    },
    {
     "name": "stdout",
     "output_type": "stream",
     "text": [
      "unseen_test_loss: tensor(376.1676, device='cuda:0')\n",
      "unseen_test_acc1: 0.112\n",
      "unseen_test_acc10: 0.364\n",
      "unseen_test_acc100: 0.648\n",
      "unseen_test_rank_median: tensor(25.)\n",
      "unseen_test_rank_variance tensor(384.5897)\n"
     ]
    },
    {
     "data": {
      "application/vnd.jupyter.widget-view+json": {
       "model_id": "a423dab2b0d545c8aff256e849073e4d",
       "version_major": 2,
       "version_minor": 0
      },
      "text/plain": [
       "  0%|          | 0/5 [00:00<?, ?it/s]"
      ]
     },
     "metadata": {},
     "output_type": "display_data"
    },
    {
     "name": "stdout",
     "output_type": "stream",
     "text": [
      "desc_test_loss: tensor(515.3072, device='cuda:0')\n",
      "desc_test_acc1: 0.265\n",
      "desc_test_acc10: 0.715\n",
      "desc_test_acc100: 0.91\n",
      "desc_test_rank_median: tensor(3.)\n",
      "desc_test_rank_variance tensor(118.9035)\n"
     ]
    },
    {
     "data": {
      "application/vnd.jupyter.widget-view+json": {
       "model_id": "07ff22e05a3a4b78bce73f4858ba6336",
       "version_major": 2,
       "version_minor": 0
      },
      "text/plain": [
       "  0%|          | 0/16893 [00:00<?, ?it/s]"
      ]
     },
     "metadata": {},
     "output_type": "display_data"
    },
    {
     "name": "stderr",
     "output_type": "stream",
     "text": [
      "IOPub message rate exceeded.\n",
      "The notebook server will temporarily stop sending output\n",
      "to the client in order to avoid crashing it.\n",
      "To change this limit, set the config variable\n",
      "`--NotebookApp.iopub_msg_rate_limit`.\n",
      "\n",
      "Current values:\n",
      "NotebookApp.iopub_msg_rate_limit=1000.0 (msgs/sec)\n",
      "NotebookApp.rate_limit_window=3.0 (secs)\n",
      "\n",
      "IOPub message rate exceeded.\n",
      "The notebook server will temporarily stop sending output\n",
      "to the client in order to avoid crashing it.\n",
      "To change this limit, set the config variable\n",
      "`--NotebookApp.iopub_msg_rate_limit`.\n",
      "\n",
      "Current values:\n",
      "NotebookApp.iopub_msg_rate_limit=1000.0 (msgs/sec)\n",
      "NotebookApp.rate_limit_window=3.0 (secs)\n",
      "\n",
      "IOPub message rate exceeded.\n",
      "The notebook server will temporarily stop sending output\n",
      "to the client in order to avoid crashing it.\n",
      "To change this limit, set the config variable\n",
      "`--NotebookApp.iopub_msg_rate_limit`.\n",
      "\n",
      "Current values:\n",
      "NotebookApp.iopub_msg_rate_limit=1000.0 (msgs/sec)\n",
      "NotebookApp.rate_limit_window=3.0 (secs)\n",
      "\n"
     ]
    },
    {
     "data": {
      "application/vnd.jupyter.widget-view+json": {
       "model_id": "f32632c2963d460f93f2c589a98e64bd",
       "version_major": 2,
       "version_minor": 0
      },
      "text/plain": [
       "  0%|          | 0/1897 [00:00<?, ?it/s]"
      ]
     },
     "metadata": {},
     "output_type": "display_data"
    },
    {
     "name": "stderr",
     "output_type": "stream",
     "text": [
      "IOPub message rate exceeded.\n",
      "The notebook server will temporarily stop sending output\n",
      "to the client in order to avoid crashing it.\n",
      "To change this limit, set the config variable\n",
      "`--NotebookApp.iopub_msg_rate_limit`.\n",
      "\n",
      "Current values:\n",
      "NotebookApp.iopub_msg_rate_limit=1000.0 (msgs/sec)\n",
      "NotebookApp.rate_limit_window=3.0 (secs)\n",
      "\n",
      "IOPub message rate exceeded.\n",
      "The notebook server will temporarily stop sending output\n",
      "to the client in order to avoid crashing it.\n",
      "To change this limit, set the config variable\n",
      "`--NotebookApp.iopub_msg_rate_limit`.\n",
      "\n",
      "Current values:\n",
      "NotebookApp.iopub_msg_rate_limit=1000.0 (msgs/sec)\n",
      "NotebookApp.rate_limit_window=3.0 (secs)\n",
      "\n",
      "IOPub message rate exceeded.\n",
      "The notebook server will temporarily stop sending output\n",
      "to the client in order to avoid crashing it.\n",
      "To change this limit, set the config variable\n",
      "`--NotebookApp.iopub_msg_rate_limit`.\n",
      "\n",
      "Current values:\n",
      "NotebookApp.iopub_msg_rate_limit=1000.0 (msgs/sec)\n",
      "NotebookApp.rate_limit_window=3.0 (secs)\n",
      "\n",
      "IOPub message rate exceeded.\n",
      "The notebook server will temporarily stop sending output\n",
      "to the client in order to avoid crashing it.\n",
      "To change this limit, set the config variable\n",
      "`--NotebookApp.iopub_msg_rate_limit`.\n",
      "\n",
      "Current values:\n",
      "NotebookApp.iopub_msg_rate_limit=1000.0 (msgs/sec)\n",
      "NotebookApp.rate_limit_window=3.0 (secs)\n",
      "\n",
      "IOPub message rate exceeded.\n",
      "The notebook server will temporarily stop sending output\n",
      "to the client in order to avoid crashing it.\n",
      "To change this limit, set the config variable\n",
      "`--NotebookApp.iopub_msg_rate_limit`.\n",
      "\n",
      "Current values:\n",
      "NotebookApp.iopub_msg_rate_limit=1000.0 (msgs/sec)\n",
      "NotebookApp.rate_limit_window=3.0 (secs)\n",
      "\n",
      "IOPub message rate exceeded.\n",
      "The notebook server will temporarily stop sending output\n",
      "to the client in order to avoid crashing it.\n",
      "To change this limit, set the config variable\n",
      "`--NotebookApp.iopub_msg_rate_limit`.\n",
      "\n",
      "Current values:\n",
      "NotebookApp.iopub_msg_rate_limit=1000.0 (msgs/sec)\n",
      "NotebookApp.rate_limit_window=3.0 (secs)\n",
      "\n"
     ]
    },
    {
     "data": {
      "application/vnd.jupyter.widget-view+json": {
       "model_id": "5ef4a93ae8a64c5fb225211cf2750305",
       "version_major": 2,
       "version_minor": 0
      },
      "text/plain": [
       "  0%|          | 0/1897 [00:00<?, ?it/s]"
      ]
     },
     "metadata": {},
     "output_type": "display_data"
    },
    {
     "data": {
      "application/vnd.jupyter.widget-view+json": {
       "model_id": "9549b6f0fe61401c8a7b66394808bad5",
       "version_major": 2,
       "version_minor": 0
      },
      "text/plain": [
       "  0%|          | 0/13 [00:00<?, ?it/s]"
      ]
     },
     "metadata": {},
     "output_type": "display_data"
    },
    {
     "name": "stdout",
     "output_type": "stream",
     "text": [
      "seen_test_loss: tensor(215.3256, device='cuda:0')\n",
      "seen_test_acc1: 0.252\n",
      "seen_test_acc10: 0.716\n",
      "seen_test_acc100: 0.89\n",
      "seen_test_rank_median: tensor(3.)\n",
      "seen_test_rank_variance tensor(248.2053)\n"
     ]
    },
    {
     "data": {
      "application/vnd.jupyter.widget-view+json": {
       "model_id": "e6977ec201dd4dfcbdf098950403cf7e",
       "version_major": 2,
       "version_minor": 0
      },
      "text/plain": [
       "  0%|          | 0/13 [00:00<?, ?it/s]"
      ]
     },
     "metadata": {},
     "output_type": "display_data"
    },
    {
     "name": "stdout",
     "output_type": "stream",
     "text": [
      "unseen_test_loss: tensor(374.9537, device='cuda:0')\n",
      "unseen_test_acc1: 0.136\n",
      "unseen_test_acc10: 0.38\n",
      "unseen_test_acc100: 0.664\n",
      "unseen_test_rank_median: tensor(24.)\n",
      "unseen_test_rank_variance tensor(379.3346)\n"
     ]
    },
    {
     "data": {
      "application/vnd.jupyter.widget-view+json": {
       "model_id": "8464114b873241ef933fb0586fbdcc4e",
       "version_major": 2,
       "version_minor": 0
      },
      "text/plain": [
       "  0%|          | 0/5 [00:00<?, ?it/s]"
      ]
     },
     "metadata": {},
     "output_type": "display_data"
    },
    {
     "name": "stdout",
     "output_type": "stream",
     "text": [
      "desc_test_loss: tensor(518.9099, device='cuda:0')\n",
      "desc_test_acc1: 0.3\n",
      "desc_test_acc10: 0.665\n",
      "desc_test_acc100: 0.885\n",
      "desc_test_rank_median: tensor(3.)\n",
      "desc_test_rank_variance tensor(145.4935)\n"
     ]
    },
    {
     "data": {
      "application/vnd.jupyter.widget-view+json": {
       "model_id": "ff91f66d04ae45ac8c617868cf6e9f48",
       "version_major": 2,
       "version_minor": 0
      },
      "text/plain": [
       "  0%|          | 0/16893 [00:00<?, ?it/s]"
      ]
     },
     "metadata": {},
     "output_type": "display_data"
    },
    {
     "data": {
      "application/vnd.jupyter.widget-view+json": {
       "model_id": "4559bd58697a4eff94aab576af45ed8a",
       "version_major": 2,
       "version_minor": 0
      },
      "text/plain": [
       "  0%|          | 0/1897 [00:00<?, ?it/s]"
      ]
     },
     "metadata": {},
     "output_type": "display_data"
    },
    {
     "data": {
      "application/vnd.jupyter.widget-view+json": {
       "model_id": "57ef363d9ee54b3fb1e5ec35b36ec2e7",
       "version_major": 2,
       "version_minor": 0
      },
      "text/plain": [
       "  0%|          | 0/13 [00:00<?, ?it/s]"
      ]
     },
     "metadata": {},
     "output_type": "display_data"
    },
    {
     "name": "stdout",
     "output_type": "stream",
     "text": [
      "seen_test_loss: tensor(214.9702, device='cuda:0')\n",
      "seen_test_acc1: 0.25\n",
      "seen_test_acc10: 0.716\n",
      "seen_test_acc100: 0.894\n",
      "seen_test_rank_median: tensor(3.)\n",
      "seen_test_rank_variance tensor(247.2444)\n"
     ]
    },
    {
     "data": {
      "application/vnd.jupyter.widget-view+json": {
       "model_id": "ad0074ef5d3c4d1b8297424ad867027b",
       "version_major": 2,
       "version_minor": 0
      },
      "text/plain": [
       "  0%|          | 0/13 [00:00<?, ?it/s]"
      ]
     },
     "metadata": {},
     "output_type": "display_data"
    },
    {
     "name": "stdout",
     "output_type": "stream",
     "text": [
      "unseen_test_loss: tensor(375.8186, device='cuda:0')\n",
      "unseen_test_acc1: 0.134\n",
      "unseen_test_acc10: 0.384\n",
      "unseen_test_acc100: 0.656\n",
      "unseen_test_rank_median: tensor(23.)\n",
      "unseen_test_rank_variance tensor(379.3580)\n"
     ]
    },
    {
     "data": {
      "application/vnd.jupyter.widget-view+json": {
       "model_id": "99f499f531564f03a1f76ec621c6ebd3",
       "version_major": 2,
       "version_minor": 0
      },
      "text/plain": [
       "  0%|          | 0/5 [00:00<?, ?it/s]"
      ]
     },
     "metadata": {},
     "output_type": "display_data"
    },
    {
     "name": "stdout",
     "output_type": "stream",
     "text": [
      "desc_test_loss: tensor(518.6593, device='cuda:0')\n",
      "desc_test_acc1: 0.305\n",
      "desc_test_acc10: 0.665\n",
      "desc_test_acc100: 0.895\n",
      "desc_test_rank_median: tensor(3.)\n",
      "desc_test_rank_variance tensor(149.9286)\n"
     ]
    }
   ],
   "source": [
    "inc = 10\n",
    "losses = []\n",
    "print('Training beginning!')\n",
    "\n",
    "for epoch in range(epoch, epochs):\n",
    "    # Training\n",
    "    model.train()\n",
    "    train_loss = 0.0\n",
    "    # Train on subset of training data to save time\n",
    "    with tqdm(total=len(train_loader)) as pbar:\n",
    "        for i, (x, y, wn_ids) in enumerate(train_loader):\n",
    "            if i % inc == 0 and i != 0:\n",
    "                display_loss = train_loss / i\n",
    "                pbar.set_description(f'Epoch {epoch+1}, Train Loss: {train_loss / i}')\n",
    "\n",
    "            optim.zero_grad()\n",
    "\n",
    "            x = x.to(device)\n",
    "            attention_mask = (x != train_dataset.pad_id)\n",
    "            y = y.to(device)\n",
    "            wn_ids = wn_ids.to_dense().to(device).float()\n",
    "            \n",
    "            loss, out = model(input_ids=x, attention_mask=attention_mask, \n",
    "                              target_matrix=target_matrix, ground_truth=y, \n",
    "                              wn_ids=wn_ids, weight_gt=weight_gt)\n",
    "            \n",
    "#             scaler.scale(loss).backward()\n",
    "            loss.backward()\n",
    "            \n",
    "#             scaler.unscale_(optim)\n",
    "            nn.utils.clip_grad_norm_(model.parameters(), 5)\n",
    "            \n",
    "#             scaler.step(optim)\n",
    "            optim.step()\n",
    "#             scaler.update()\n",
    "            \n",
    "            train_loss += loss.detach()\n",
    "            \n",
    "            scheduler.step()\n",
    "            \n",
    "            pbar.update(1)\n",
    "            \n",
    "            del x, y, out, loss, attention_mask\n",
    "            \n",
    "    model_name = type(model).__name__\n",
    "    filename = f'../trained_models/{model_name} Epoch {epoch+1} at {datetime.datetime.now()}'.replace(' ', '_')\n",
    "    with open(filename, 'wb+') as f:\n",
    "        torch.save(model, f)\n",
    "    \n",
    "    # Validation\n",
    "    model.eval()\n",
    "    val_loss = 0.0\n",
    "    val_acc1, val_acc10, val_acc100 = 0.0, 0.0, 0.0\n",
    "    try:\n",
    "        with torch.no_grad():\n",
    "            with tqdm(total=len(dev_loader)) as pbar:\n",
    "                for i, (x, y, wn_ids) in enumerate(dev_loader):\n",
    "                    if i % inc == 0 and i != 0:\n",
    "                        display_loss = val_loss / i\n",
    "                        pbar.set_description(f'Epoch {epoch+1}, Val Loss: {val_loss / i}')\n",
    "\n",
    "                    x = x.to(device)\n",
    "                    attention_mask = (x != train_dataset.pad_id)\n",
    "                    y = y.to(device)\n",
    "                    wn_ids = wn_ids.to_dense().to(device).float()\n",
    "\n",
    "    #                 with autocast():\n",
    "                    loss, out = model(input_ids=x, attention_mask=attention_mask, \n",
    "                                      target_matrix=target_matrix, ground_truth=y,\n",
    "                                      wn_ids=wn_ids, weight_gt=weight_gt)\n",
    "\n",
    "                    val_loss += loss.detach()\n",
    "\n",
    "                    pbar.update(1)                \n",
    "\n",
    "                    result, indices = torch.topk(out, k=100, dim=-1, largest=True, sorted=True)\n",
    "\n",
    "                    acc1, acc10, acc100 = evaluate(indices, y)\n",
    "                    val_acc1 += acc1\n",
    "                    val_acc10 += acc10\n",
    "                    val_acc100 += acc100\n",
    "\n",
    "                    del x, y, out, loss\n",
    "    except:\n",
    "        print('Error encountered, aborting validation!')\n",
    "    \n",
    "    wandb.log({\n",
    "        'train_loss': train_loss / len(train_loader),\n",
    "        'val_loss': val_loss / len(dev_loader),\n",
    "        'val_acc1': val_acc1 / len(dev_loader),\n",
    "        'val_acc10': val_acc10 / len(dev_loader),\n",
    "        'val_acc100': val_acc100 / len(dev_loader),\n",
    "        **test(test_loader_seen, 'seen'),\n",
    "        **test(test_loader_unseen, 'unseen'),\n",
    "        **test(test_loader_desc, 'desc')\n",
    "    })\n",
    "    "
   ]
  },
  {
   "cell_type": "code",
   "execution_count": 31,
   "metadata": {},
   "outputs": [],
   "source": [
    "def getPredFromDesc(model, desc : str, mask_size=5, top_n=10):\n",
    "    desc = tokenizer.convert_tokens_to_ids(tokenizer.tokenize(desc))\n",
    "    cls_id, mask_id, sep_id, pad_id = train_dataset.cls_id, train_dataset.mask_id, train_dataset.sep_id, train_dataset.pad_id\n",
    "    desc_ids = [cls_id] + [mask_id] * mask_size + [sep_id] + desc\n",
    "    x = torch.tensor(desc_ids).unsqueeze(0).to(device)\n",
    "    attention_mask = (x != pad_id)\n",
    "    out = model(input_ids=x, attention_mask=attention_mask, target_matrix=target_matrix)\n",
    "    result, indices = torch.topk(out, k=top_n, dim=-1, largest=True, sorted=True)\n",
    "    \n",
    "    indices = indices[0]\n",
    "    return [idx2target[i] for i in indices], indices, torch.sigmoid(result).squeeze(0)\n",
    "    "
   ]
  },
  {
   "cell_type": "code",
   "execution_count": 36,
   "metadata": {
    "scrolled": true
   },
   "outputs": [
    {
     "data": {
      "text/plain": [
       "[('circus', 0.993190348148346),\n",
       " ('clown', 0.884685218334198),\n",
       " ('trouper', 0.6588714122772217),\n",
       " ('performer', 0.6159197092056274),\n",
       " ('showman', 0.5994367003440857),\n",
       " ('clowning', 0.5536590814590454),\n",
       " ('bullhorn', 0.47201165556907654),\n",
       " ('troupe', 0.3969727158546448),\n",
       " ('comedian', 0.35517677664756775),\n",
       " ('busker', 0.32383280992507935),\n",
       " ('clownish', 0.2810075283050537),\n",
       " ('cager', 0.25143513083457947),\n",
       " ('host', 0.25134822726249695),\n",
       " ('punster', 0.23134440183639526),\n",
       " ('soul', 0.2298755645751953),\n",
       " ('equestrian', 0.2218306064605713),\n",
       " ('monkey', 0.20849783718585968),\n",
       " ('bullfighter', 0.20050320029258728),\n",
       " ('jobber', 0.1975749135017395),\n",
       " ('picador', 0.19386501610279083),\n",
       " ('supervillain', 0.18457858264446259),\n",
       " ('show', 0.18442580103874207),\n",
       " ('journeyman', 0.1825648993253708),\n",
       " ('nonaggression', 0.1777178943157196),\n",
       " ('prizefighter', 0.17524780333042145),\n",
       " ('exhibitor', 0.1655634045600891),\n",
       " ('exhibition', 0.1646496206521988),\n",
       " ('comic', 0.16271696984767914),\n",
       " ('squealer', 0.15343841910362244),\n",
       " ('stampede', 0.1506151407957077),\n",
       " ('act', 0.1493617296218872),\n",
       " ('picket', 0.14129512012004852),\n",
       " ('illusion', 0.13630110025405884),\n",
       " ('actor', 0.13431943953037262),\n",
       " ('ratter', 0.12960658967494965),\n",
       " ('bulldozer', 0.1244727373123169),\n",
       " ('buffalo', 0.11571218818426132),\n",
       " ('cornetist', 0.11560286581516266),\n",
       " ('entertainer', 0.11536523699760437),\n",
       " ('feature', 0.11531702429056168),\n",
       " ('sustainer', 0.113742396235466),\n",
       " ('ringer', 0.1135803684592247),\n",
       " ('cavalryman', 0.1123967096209526),\n",
       " ('behave', 0.11027099192142487),\n",
       " ('horseman', 0.10925380885601044),\n",
       " ('bus', 0.10891769081354141),\n",
       " ('pavillion', 0.10771916061639786),\n",
       " ('fervor', 0.10685943067073822),\n",
       " ('entertain', 0.10683833807706833),\n",
       " ('barker', 0.10611023008823395),\n",
       " ('commissionaire', 0.10568799823522568),\n",
       " ('roughneck', 0.10537564009428024),\n",
       " ('showmanship', 0.10351640731096268),\n",
       " ('cage', 0.10272227227687836),\n",
       " ('impresario', 0.09700808674097061),\n",
       " ('scouter', 0.09473847597837448),\n",
       " ('showpiece', 0.09044714272022247),\n",
       " ('flurry', 0.09002609550952911),\n",
       " ('tease', 0.08764540404081345),\n",
       " ('tenter', 0.08401725441217422),\n",
       " ('athlete', 0.08078038692474365),\n",
       " ('vaudevillian', 0.0803128257393837),\n",
       " ('jumper', 0.0798191949725151),\n",
       " ('enclosure', 0.07958248257637024),\n",
       " ('jock', 0.07816095650196075),\n",
       " ('esq', 0.07804559916257858),\n",
       " ('rat', 0.07696659117937088),\n",
       " ('job', 0.07634434103965759),\n",
       " ('placental', 0.07429081201553345),\n",
       " ('jester', 0.07423871010541916),\n",
       " ('somebody', 0.07355771958827972),\n",
       " ('gypsy', 0.07345922291278839),\n",
       " ('person', 0.07319686561822891),\n",
       " ('hamster', 0.07092641294002533),\n",
       " ('treater', 0.07021499425172806),\n",
       " ('exhibitionist', 0.06990405172109604),\n",
       " ('enquirer', 0.06974265724420547),\n",
       " ('stripper', 0.06823582947254181),\n",
       " ('jockey', 0.06704366207122803),\n",
       " ('exhibit', 0.06628590077161789),\n",
       " ('sharpshooter', 0.06589886546134949),\n",
       " ('hamper', 0.06461082398891449),\n",
       " ('spectacle', 0.06421048939228058),\n",
       " ('conquistador', 0.06318721175193787),\n",
       " ('guardsman', 0.06304819881916046),\n",
       " ('showground', 0.06265254318714142),\n",
       " ('puncher', 0.06126980483531952),\n",
       " ('elkhorn', 0.06120368838310242),\n",
       " ('collegian', 0.06098916009068489),\n",
       " ('stagehand', 0.060877926647663116),\n",
       " ('participant', 0.05966727435588837),\n",
       " ('deal', 0.058760181069374084),\n",
       " ('exponent', 0.058740779757499695),\n",
       " ('legionary', 0.05838058888912201),\n",
       " ('escort', 0.05741697549819946),\n",
       " ('illusionist', 0.056759923696517944),\n",
       " ('traveler', 0.056586865335702896),\n",
       " ('trombonist', 0.05479871854186058),\n",
       " ('piece', 0.05453880876302719),\n",
       " ('bodyguard', 0.0541498102247715)]"
      ]
     },
     "execution_count": 36,
     "metadata": {},
     "output_type": "execute_result"
    }
   ],
   "source": [
    "words, idx, probs = getPredFromDesc(model, 'employee at a circus', 5, 100)\n",
    "[(word, prob.item()) for word, prob in zip(words, probs)]"
   ]
  },
  {
   "cell_type": "code",
   "execution_count": 37,
   "metadata": {
    "scrolled": true
   },
   "outputs": [
    {
     "data": {
      "text/plain": [
       "[('tree', 0.8987012505531311),\n",
       " ('teakwood', 0.848529040813446),\n",
       " ('wood', 0.8431754112243652),\n",
       " ('chestnut', 0.8073810935020447),\n",
       " ('sycamore', 0.724624514579773),\n",
       " ('treed', 0.6613193154335022),\n",
       " ('satinwood', 0.6488152742385864),\n",
       " ('linden', 0.6279645562171936),\n",
       " ('ebony', 0.570404589176178),\n",
       " ('beechwood', 0.5560390949249268),\n",
       " ('mahogany', 0.5412676930427551),\n",
       " ('conifer', 0.5391260981559753),\n",
       " ('boxwood', 0.5335785150527954),\n",
       " ('maple', 0.529134213924408),\n",
       " ('rosewood', 0.5242615938186646),\n",
       " ('dogwood', 0.5204063653945923),\n",
       " ('brazilwood', 0.5168402791023254),\n",
       " ('cottonwood', 0.49642056226730347),\n",
       " ('bayberry', 0.491065114736557),\n",
       " ('tea', 0.47932055592536926),\n",
       " ('balata', 0.4710242748260498),\n",
       " ('logwood', 0.4409780502319336),\n",
       " ('nee', 0.43937623500823975),\n",
       " ('lime', 0.4367316961288452),\n",
       " ('cedarwood', 0.42682862281799316),\n",
       " ('fir', 0.42423343658447266),\n",
       " ('balsa', 0.42195358872413635),\n",
       " ('oak', 0.4087488055229187),\n",
       " ('casuarina', 0.4005316495895386),\n",
       " ('hazel', 0.38123956322669983),\n",
       " ('pandanus', 0.36936327815055847),\n",
       " ('kowhai', 0.36504992842674255),\n",
       " ('mangrove', 0.3460407555103302),\n",
       " ('elongate', 0.3449665904045105),\n",
       " ('hornbeam', 0.34061065316200256),\n",
       " ('pinewood', 0.33248406648635864),\n",
       " ('gum', 0.33040958642959595),\n",
       " ('locus', 0.32981643080711365),\n",
       " ('olive', 0.317150354385376),\n",
       " ('leatherwood', 0.3057876229286194),\n",
       " ('damson', 0.30304068326950073),\n",
       " ('birch', 0.30239641666412354),\n",
       " ('bonsai', 0.2863718569278717),\n",
       " ('ironwood', 0.27461937069892883),\n",
       " ('teat', 0.2703515589237213),\n",
       " ('ashlar', 0.26955512166023254),\n",
       " ('samba', 0.2659776508808136),\n",
       " ('acacia', 0.2643955647945404),\n",
       " ('sap', 0.2607520818710327),\n",
       " ('barking', 0.25316518545150757),\n",
       " ('birchbark', 0.2522287964820862),\n",
       " ('arboreal', 0.25094276666641235),\n",
       " ('cornered', 0.24869424104690552),\n",
       " ('shrub', 0.240666002035141),\n",
       " ('pinon', 0.24056540429592133),\n",
       " ('neet', 0.23980145156383514),\n",
       " ('redwood', 0.23583760857582092),\n",
       " ('limes', 0.23331576585769653),\n",
       " ('chinaberry', 0.23095372319221497),\n",
       " ('manzanita', 0.22968789935112),\n",
       " ('elm', 0.22861488163471222),\n",
       " ('willow', 0.22564005851745605),\n",
       " ('teak', 0.22548887133598328),\n",
       " ('eucalyptus', 0.22411322593688965),\n",
       " ('stocked', 0.22291706502437592),\n",
       " ('pollard', 0.22291649878025055),\n",
       " ('mariachi', 0.22152234613895416),\n",
       " ('cypress', 0.2171267718076706),\n",
       " ('spruce', 0.20990736782550812),\n",
       " ('manoeuver', 0.20411187410354614),\n",
       " ('maria', 0.20095683634281158),\n",
       " ('oakleaf', 0.20084600150585175),\n",
       " ('calabash', 0.19938720762729645),\n",
       " ('sapote', 0.19917380809783936),\n",
       " ('limn', 0.19519555568695068),\n",
       " ('chou', 0.19475772976875305),\n",
       " ('larch', 0.19444797933101654),\n",
       " ('plum', 0.19410818815231323),\n",
       " ('treetop', 0.19322630763053894),\n",
       " ('kibosh', 0.18637143075466156),\n",
       " ('ssh', 0.18190699815750122),\n",
       " ('timber', 0.17084425687789917),\n",
       " ('sylvan', 0.16813133656978607),\n",
       " ('blackwood', 0.16695669293403625),\n",
       " ('locust', 0.1653304249048233),\n",
       " ('cordwood', 0.1625458151102066),\n",
       " ('buckthorn', 0.16140413284301758),\n",
       " ('pear', 0.1591433733701706),\n",
       " ('logging', 0.1574258804321289),\n",
       " ('saka', 0.15737399458885193),\n",
       " ('hazelnut', 0.1561712920665741),\n",
       " ('mulberry', 0.1554761677980423),\n",
       " ('knot', 0.15485723316669464),\n",
       " ('applewood', 0.15348613262176514),\n",
       " ('currant', 0.15300121903419495),\n",
       " ('greasewood', 0.15234962105751038),\n",
       " ('rubber', 0.1502162367105484),\n",
       " ('bay', 0.14571021497249603),\n",
       " ('woodcut', 0.14496742188930511),\n",
       " ('hickory', 0.14403487741947174)]"
      ]
     },
     "execution_count": 37,
     "metadata": {},
     "output_type": "execute_result"
    }
   ],
   "source": [
    "words, idx, probs = getPredFromDesc(model, 'type of tree', 5, 100)\n",
    "[(word, prob.item()) for word, prob in zip(words, probs)]"
   ]
  },
  {
   "cell_type": "code",
   "execution_count": 38,
   "metadata": {
    "scrolled": true
   },
   "outputs": [
    {
     "data": {
      "text/plain": [
       "[('road', 0.9543246030807495),\n",
       " ('drive', 0.9403229355812073),\n",
       " ('raceway', 0.9393033981323242),\n",
       " ('parkway', 0.8832072615623474),\n",
       " ('chase', 0.8816617727279663),\n",
       " ('trackway', 0.8809894323348999),\n",
       " ('velodrome', 0.8687973022460938),\n",
       " ('beltway', 0.8651279807090759),\n",
       " ('driveway', 0.8606955409049988),\n",
       " ('speedway', 0.8336283564567566),\n",
       " ('racetrack', 0.7930748462677002),\n",
       " ('driveline', 0.7808491587638855),\n",
       " ('hunt', 0.7629326581954956),\n",
       " ('route', 0.7609122395515442),\n",
       " ('track', 0.7595197558403015),\n",
       " ('belt', 0.7323867082595825),\n",
       " ('runway', 0.7022448182106018),\n",
       " ('control', 0.6142128109931946),\n",
       " ('crossway', 0.6007115840911865),\n",
       " ('move', 0.5898234844207764),\n",
       " ('travel', 0.5869883894920349),\n",
       " ('street', 0.5799174308776855),\n",
       " ('racecourse', 0.5694281458854675),\n",
       " ('canal', 0.5614708662033081),\n",
       " ('path', 0.5611274838447571),\n",
       " ('highway', 0.5501547455787659),\n",
       " ('pass', 0.5337620973587036),\n",
       " ('crosscut', 0.5330564975738525),\n",
       " ('fast', 0.5162973999977112),\n",
       " ('railroad', 0.495160847902298),\n",
       " ('motor', 0.48432835936546326),\n",
       " ('take', 0.4537529945373535),\n",
       " ('make', 0.45071256160736084),\n",
       " ('campaign', 0.44627243280410767),\n",
       " ('mean', 0.43290087580680847),\n",
       " ('lanes', 0.4226852059364319),\n",
       " ('go', 0.41640010476112366),\n",
       " ('run', 0.41610968112945557),\n",
       " ('turn', 0.41405513882637024),\n",
       " ('course', 0.40873852372169495),\n",
       " ('observe', 0.4087184965610504),\n",
       " ('railway', 0.4023994505405426),\n",
       " ('direct', 0.4018593728542328),\n",
       " ('trail', 0.3940402567386627),\n",
       " ('cover', 0.3924758732318878),\n",
       " ('ride', 0.39210209250450134),\n",
       " ('cross', 0.39094191789627075),\n",
       " ('create', 0.38565343618392944),\n",
       " ('beltline', 0.38227829337120056),\n",
       " ('get', 0.3786155581474304),\n",
       " ('straightway', 0.37683507800102234),\n",
       " ('render', 0.3743608295917511),\n",
       " ('riad', 0.3735111653804779),\n",
       " ('groove', 0.36846715211868286),\n",
       " ('initiative', 0.35548269748687744),\n",
       " ('rive', 0.34456124901771545),\n",
       " ('trackage', 0.3398215174674988),\n",
       " ('superhighway', 0.3394761085510254),\n",
       " ('orbit', 0.33872783184051514),\n",
       " ('tail', 0.337026983499527),\n",
       " ('strip', 0.3362017571926117),\n",
       " ('rails', 0.33405429124832153),\n",
       " ('channel', 0.32484468817710876),\n",
       " ('impulsion', 0.32340359687805176),\n",
       " ('roadkill', 0.3226718306541443),\n",
       " ('running', 0.3206455111503601),\n",
       " ('passageway', 0.3171488344669342),\n",
       " ('tracking', 0.31714344024658203),\n",
       " ('impetus', 0.3093685805797577),\n",
       " ('way', 0.3093644082546234),\n",
       " ('grounds', 0.30795836448669434),\n",
       " ('movement', 0.3066314458847046),\n",
       " ('pursue', 0.3060213029384613),\n",
       " ('gut', 0.30492597818374634),\n",
       " ('drift', 0.30438557267189026),\n",
       " ('drag', 0.303530752658844),\n",
       " ('squeeze', 0.30161017179489136),\n",
       " ('avenue', 0.2957153916358948),\n",
       " ('tracks', 0.29345202445983887),\n",
       " ('teach', 0.28736504912376404),\n",
       " ('maneuver', 0.2835344076156616),\n",
       " ('extract', 0.274711012840271),\n",
       " ('swat', 0.27444466948509216),\n",
       " ('traverse', 0.2732415199279785),\n",
       " ('slash', 0.26894423365592957),\n",
       " ('ri', 0.2673799693584442),\n",
       " ('roadblock', 0.26679810881614685),\n",
       " ('race', 0.26481133699417114),\n",
       " ('fairway', 0.2646733224391937),\n",
       " ('flyway', 0.2597084939479828),\n",
       " ('roads', 0.2561945915222168),\n",
       " ('labor', 0.2542561888694763),\n",
       " ('stream', 0.253562331199646),\n",
       " ('eddy', 0.25215476751327515),\n",
       " ('hit', 0.25066256523132324),\n",
       " ('education', 0.24663834273815155),\n",
       " ('trade', 0.2466239482164383),\n",
       " ('instruction', 0.24527817964553833),\n",
       " ('motorbike', 0.23597592115402222),\n",
       " ('tram', 0.23071317374706268)]"
      ]
     },
     "execution_count": 38,
     "metadata": {},
     "output_type": "execute_result"
    }
   ],
   "source": [
    "words, idx, probs = getPredFromDesc(model, 'a road on which cars can go fast', 5, 100)\n",
    "[(word, prob.item()) for word, prob in zip(words, probs)]"
   ]
  },
  {
   "cell_type": "code",
   "execution_count": 39,
   "metadata": {
    "scrolled": true
   },
   "outputs": [
    {
     "data": {
      "text/plain": [
       "[('genius', 0.9945294260978699),\n",
       " ('einstein', 0.99406498670578),\n",
       " ('brain', 0.9902623891830444),\n",
       " ('brainpower', 0.9856745600700378),\n",
       " ('intelligence', 0.9709501266479492),\n",
       " ('brainiac', 0.966468334197998),\n",
       " ('brains', 0.9625489115715027),\n",
       " ('intellect', 0.9441092610359192),\n",
       " ('brainstorming', 0.9407050013542175),\n",
       " ('brainy', 0.9381992220878601),\n",
       " ('intellectual', 0.9175571203231812),\n",
       " ('psychic', 0.9143380522727966),\n",
       " ('psyche', 0.8716870546340942),\n",
       " ('mindfulness', 0.8639110922813416),\n",
       " ('mind', 0.8611631989479065),\n",
       " ('brainstem', 0.8580717444419861),\n",
       " ('brilliance', 0.8215032815933228),\n",
       " ('minder', 0.8173473477363586),\n",
       " ('brilliant', 0.8104645609855652),\n",
       " ('mastermind', 0.8029227256774902),\n",
       " ('braincase', 0.7732986807823181),\n",
       " ('mental', 0.7660771608352661),\n",
       " ('intelligent', 0.7650362253189087),\n",
       " ('visionary', 0.7345557808876038),\n",
       " ('subconscious', 0.678047776222229),\n",
       " ('mentalist', 0.6644124984741211),\n",
       " ('intellectualism', 0.6626483201980591),\n",
       " ('expert', 0.6022065281867981),\n",
       " ('sentient', 0.5835015177726746),\n",
       " ('wit', 0.5816522836685181),\n",
       " ('brainwash', 0.5698990821838379),\n",
       " ('virtuoso', 0.5619294047355652),\n",
       " ('clairvoyant', 0.541215181350708),\n",
       " ('subconsciousness', 0.5309745669364929),\n",
       " ('somebody', 0.5047385692596436),\n",
       " ('minding', 0.4859015941619873),\n",
       " ('psychical', 0.47813352942466736),\n",
       " ('expertness', 0.44865915179252625),\n",
       " ('brainwashed', 0.4345986843109131),\n",
       " ('cognition', 0.4307268261909485),\n",
       " ('brightness', 0.4264860153198242),\n",
       " ('unconscious', 0.42381441593170166),\n",
       " ('mentality', 0.42357414960861206),\n",
       " ('vision', 0.40844184160232544),\n",
       " ('knowledge', 0.3817407190799713),\n",
       " ('mindful', 0.37487849593162537),\n",
       " ('mentalism', 0.3662824034690857),\n",
       " ('person', 0.35180968046188354),\n",
       " ('perceive', 0.3414727747440338),\n",
       " ('intellection', 0.336140513420105),\n",
       " ('faculty', 0.331078439950943),\n",
       " ('sapient', 0.32272574305534363),\n",
       " ('illusion', 0.3196133077144623),\n",
       " ('knowing', 0.31536972522735596),\n",
       " ('brainchild', 0.3144743740558624),\n",
       " ('soul', 0.3089301288127899),\n",
       " ('superstar', 0.29939937591552734),\n",
       " ('astute', 0.2905746102333069),\n",
       " ('brainless', 0.28737640380859375),\n",
       " ('student', 0.26963678002357483),\n",
       " ('clever', 0.24025633931159973),\n",
       " ('astuteness', 0.23602771759033203),\n",
       " ('head', 0.2334999293088913),\n",
       " ('creativity', 0.23256400227546692),\n",
       " ('scientist', 0.22163139283657074),\n",
       " ('illusionist', 0.22117696702480316),\n",
       " ('master', 0.21787820756435394),\n",
       " ('supernova', 0.21653738617897034),\n",
       " ('focussing', 0.21531760692596436),\n",
       " ('brainwashing', 0.21492943167686462),\n",
       " ('sentience', 0.21489357948303223),\n",
       " ('individual', 0.20586219429969788),\n",
       " ('judgment', 0.2006446123123169),\n",
       " ('knowingness', 0.19846902787685394),\n",
       " ('superior', 0.1979309767484665),\n",
       " ('smart', 0.1909831464290619),\n",
       " ('scholar', 0.18999506533145905),\n",
       " ('emollient', 0.18171557784080505),\n",
       " ('virtuosic', 0.18112632632255554),\n",
       " ('comprehend', 0.17861318588256836),\n",
       " ('godhead', 0.17810194194316864),\n",
       " ('idiot', 0.1776151955127716),\n",
       " ('insight', 0.17531493306159973),\n",
       " ('foresighted', 0.17416945099830627),\n",
       " ('psychedelia', 0.17267818748950958),\n",
       " ('cynic', 0.16726846992969513),\n",
       " ('synthesizer', 0.16102832555770874),\n",
       " ('perceiver', 0.15895453095436096),\n",
       " ('oculus', 0.15777787566184998),\n",
       " ('behemoth', 0.15654467046260834),\n",
       " ('see', 0.15475666522979736),\n",
       " ('ideal', 0.1528487354516983),\n",
       " ('wizardry', 0.15138830244541168),\n",
       " ('physicist', 0.15055854618549347),\n",
       " ('divine', 0.14973615109920502),\n",
       " ('fool', 0.1496492475271225),\n",
       " ('consciousness', 0.14937032759189606),\n",
       " ('cogitate', 0.1466595083475113),\n",
       " ('cleverness', 0.14528979361057281),\n",
       " ('thought', 0.14391951262950897)]"
      ]
     },
     "execution_count": 39,
     "metadata": {},
     "output_type": "execute_result"
    }
   ],
   "source": [
    "words, idx, probs = getPredFromDesc(model, 'a very intelligent person', 5, 100)\n",
    "[(word, prob.item()) for word, prob in zip(words, probs)]"
   ]
  },
  {
   "cell_type": "code",
   "execution_count": 42,
   "metadata": {
    "scrolled": true
   },
   "outputs": [
    {
     "data": {
      "text/plain": [
       "[('unhappiness', 0.9850491881370544),\n",
       " ('sadness', 0.8976619839668274),\n",
       " ('disconcert', 0.8223000168800354),\n",
       " ('unhappy', 0.7643705010414124),\n",
       " ('discomfiture', 0.717978298664093),\n",
       " ('ambivalence', 0.7091021537780762),\n",
       " ('sorrow', 0.5153690576553345),\n",
       " ('lethargic', 0.5139889121055603),\n",
       " ('endearment', 0.5011042356491089),\n",
       " ('dreariness', 0.4468076527118683),\n",
       " ('unhinge', 0.4360183775424957),\n",
       " ('uneasiness', 0.4352346360683441),\n",
       " ('craziness', 0.42641308903694153),\n",
       " ('emotion', 0.4042612314224243),\n",
       " ('aphorism', 0.38845741748809814),\n",
       " ('misery', 0.3688901662826538),\n",
       " ('discontent', 0.3537975549697876),\n",
       " ('misanthrope', 0.31808826327323914),\n",
       " ('discomfit', 0.3101854920387268),\n",
       " ('complacence', 0.31006255745887756),\n",
       " ('antipathetic', 0.3036043047904968),\n",
       " ('unbelief', 0.3019541800022125),\n",
       " ('desensitisation', 0.2978937029838562),\n",
       " ('upset', 0.2975330352783203),\n",
       " ('unvarying', 0.2957783341407776),\n",
       " ('sorrowing', 0.29450318217277527),\n",
       " ('sorrowful', 0.28617167472839355),\n",
       " ('feeling', 0.27198848128318787),\n",
       " ('dissipation', 0.2689549922943115),\n",
       " ('misbehavior', 0.26793625950813293),\n",
       " ('unbeliever', 0.25704485177993774),\n",
       " ('disconnect', 0.2558300793170929),\n",
       " ('dissatisfaction', 0.2554326057434082),\n",
       " ('desirability', 0.25542035698890686),\n",
       " ('ungrateful', 0.25484731793403625),\n",
       " ('regret', 0.253867506980896),\n",
       " ('happiness', 0.24008437991142273),\n",
       " ('failure', 0.23664318025112152),\n",
       " ('despondency', 0.23629248142242432),\n",
       " ('melancholy', 0.2312011420726776),\n",
       " ('malfunction', 0.2156190723180771),\n",
       " ('apathetic', 0.21132643520832062),\n",
       " ('queasiness', 0.2101692110300064),\n",
       " ('unhealthiness', 0.20744143426418304),\n",
       " ('unfriendliness', 0.1959366351366043),\n",
       " ('nitrification', 0.18560169637203217),\n",
       " ('loneliness', 0.18411894142627716),\n",
       " ('unsteadiness', 0.17344720661640167),\n",
       " ('apathy', 0.16607865691184998),\n",
       " ('envy', 0.16572314500808716),\n",
       " ('compunction', 0.15983401238918304),\n",
       " ('discoloration', 0.15908633172512054),\n",
       " ('dissidence', 0.1508094221353531),\n",
       " ('desiring', 0.14007364213466644),\n",
       " ('happy', 0.1317487508058548),\n",
       " ('sad', 0.13081659376621246),\n",
       " ('emotionless', 0.1302364021539688),\n",
       " ('disconcerting', 0.12664024531841278),\n",
       " ('miscarry', 0.12614186108112335),\n",
       " ('complacency', 0.1216084286570549),\n",
       " ('emotionality', 0.12063416093587875),\n",
       " ('ruth', 0.11916347593069077),\n",
       " ('moodiness', 0.11695516109466553),\n",
       " ('discordance', 0.11692794412374496),\n",
       " ('heartache', 0.11457128822803497),\n",
       " ('indolence', 0.11446527391672134),\n",
       " ('regretful', 0.11368539929389954),\n",
       " ('nausea', 0.11123267561197281),\n",
       " ('changeover', 0.10937540233135223),\n",
       " ('unreality', 0.10837611556053162),\n",
       " ('unhinged', 0.10593855381011963),\n",
       " ('disconnection', 0.1023632362484932),\n",
       " ('aggravation', 0.10231024771928787),\n",
       " ('inactivity', 0.10074443370103836),\n",
       " ('evilness', 0.10052870213985443),\n",
       " ('rue', 0.09859132021665573),\n",
       " ('adversity', 0.09806552529335022),\n",
       " ('sadism', 0.09758239984512329),\n",
       " ('endear', 0.09740299731492996),\n",
       " ('abomination', 0.09704482555389404),\n",
       " ('disco', 0.09451010078191757),\n",
       " ('pity', 0.09329511970281601),\n",
       " ('dishearten', 0.09232576191425323),\n",
       " ('upsetting', 0.09161932021379471),\n",
       " ('irreverence', 0.09136725962162018),\n",
       " ('amenity', 0.09131703525781631),\n",
       " ('denazification', 0.09065715223550797),\n",
       " ('misanthropy', 0.08964677155017853),\n",
       " ('disaffection', 0.08959893882274628),\n",
       " ('guiltiness', 0.08954358845949173),\n",
       " ('discourage', 0.08942385017871857),\n",
       " ('discontinuance', 0.08866190910339355),\n",
       " ('desecration', 0.08777148276567459),\n",
       " ('disintegration', 0.08728353679180145),\n",
       " ('stagnancy', 0.08718911558389664),\n",
       " ('heartbreak', 0.08713902533054352),\n",
       " ('unsettle', 0.0869729071855545),\n",
       " ('frivolity', 0.08627232164144516),\n",
       " ('demagogic', 0.08612150698900223),\n",
       " ('derangement', 0.08314253389835358)]"
      ]
     },
     "execution_count": 42,
     "metadata": {},
     "output_type": "execute_result"
    }
   ],
   "source": [
    "words, idx, probs = getPredFromDesc(model, 'the opposite of being happy', 5, 100)\n",
    "[(word, prob.item()) for word, prob in zip(words, probs)]"
   ]
  },
  {
   "cell_type": "code",
   "execution_count": 62,
   "metadata": {
    "scrolled": true
   },
   "outputs": [
    {
     "data": {
      "text/plain": [
       "[('thermometer', 0.998386025428772),\n",
       " ('calorimeter', 0.9806400537490845),\n",
       " ('thermometry', 0.8985686302185059),\n",
       " ('thermocouple', 0.8366416692733765),\n",
       " ('thermostat', 0.7714673280715942),\n",
       " ('gasometer', 0.7669250965118408),\n",
       " ('fahrenheit', 0.6841531991958618),\n",
       " ('seismometer', 0.6831289529800415),\n",
       " ('speedometer', 0.556801438331604),\n",
       " ('barometer', 0.5467906594276428),\n",
       " ('reflectometer', 0.5422741174697876),\n",
       " ('magnetometer', 0.5342686176300049),\n",
       " ('thermopile', 0.5173691511154175),\n",
       " ('temperature', 0.5084152817726135),\n",
       " ('tachometer', 0.48013073205947876),\n",
       " ('refrigerate', 0.4386438727378845),\n",
       " ('thermotherapy', 0.41434165835380554),\n",
       " ('thermoset', 0.2984980642795563),\n",
       " ('potboiler', 0.2958795130252838),\n",
       " ('hygrometer', 0.24375738203525543),\n",
       " ('thermography', 0.24371981620788574),\n",
       " ('setup', 0.2351464331150055),\n",
       " ('spirometer', 0.2349872887134552),\n",
       " ('radiometer', 0.2307460904121399),\n",
       " ('pyrometer', 0.23054927587509155),\n",
       " ('hypothermic', 0.22909153997898102),\n",
       " ('ergometer', 0.2165631502866745),\n",
       " ('electrometer', 0.2019643932580948),\n",
       " ('apparatus', 0.1876768171787262),\n",
       " ('thermosphere', 0.17702923715114594),\n",
       " ('bronchoscope', 0.17636629939079285),\n",
       " ('refrigerating', 0.1746041625738144),\n",
       " ('thermoelectric', 0.1685749888420105),\n",
       " ('thermos', 0.16007885336875916),\n",
       " ('refractor', 0.15971530973911285),\n",
       " ('horoscope', 0.15767164528369904),\n",
       " ('hypothermia', 0.14918190240859985),\n",
       " ('control', 0.14231984317302704),\n",
       " ('therm', 0.13775260746479034),\n",
       " ('refrigerant', 0.13763725757598877),\n",
       " ('bronchodilator', 0.13735023140907288),\n",
       " ('rheometer', 0.1371093988418579),\n",
       " ('anemometer', 0.13464459776878357),\n",
       " ('device', 0.12951652705669403),\n",
       " ('refrigeration', 0.11320839822292328),\n",
       " ('manometer', 0.11266971379518509),\n",
       " ('falsifier', 0.11245899647474289),\n",
       " ('bathysphere', 0.10633114725351334),\n",
       " ('sensitive', 0.09188167750835419),\n",
       " ('fluoridate', 0.09164094924926758),\n",
       " ('hydrometer', 0.09072958678007126),\n",
       " ('thermocline', 0.08824709802865982),\n",
       " ('ammeter', 0.08451946079730988),\n",
       " ('breathalyzer', 0.07734175771474838),\n",
       " ('thermoplastic', 0.07711437344551086),\n",
       " ('isotherm', 0.07644672691822052),\n",
       " ('heat', 0.06347992271184921),\n",
       " ('heating', 0.06267725676298141),\n",
       " ('incorporator', 0.06160009279847145),\n",
       " ('heater', 0.06012573465704918),\n",
       " ('spallation', 0.05686430260539055),\n",
       " ('geometer', 0.055401675403118134),\n",
       " ('polarimeter', 0.05494961887598038),\n",
       " ('dynamometer', 0.05424964427947998),\n",
       " ('tonometer', 0.0539608895778656),\n",
       " ('photometer', 0.051813047379255295),\n",
       " ('countermeasure', 0.051355600357055664),\n",
       " ('calorimetry', 0.04752437397837639),\n",
       " ('shunter', 0.04719015210866928),\n",
       " ('heated', 0.04589904472231865),\n",
       " ('modify', 0.045872095972299576),\n",
       " ('thermal', 0.04550240933895111),\n",
       " ('cooling', 0.04482223838567734),\n",
       " ('densitometer', 0.043975017964839935),\n",
       " ('sensitiveness', 0.042493198066949844),\n",
       " ('aether', 0.0424928292632103),\n",
       " ('thermoregulation', 0.04215999320149422),\n",
       " ('refrigerator', 0.041115425527095795),\n",
       " ('thermodynamically', 0.04039250314235687),\n",
       " ('changer', 0.03908297419548035),\n",
       " ('lowrider', 0.03878387063741684),\n",
       " ('gastroenterology', 0.0376240611076355),\n",
       " ('controller', 0.037380658090114594),\n",
       " ('heliotrope', 0.0362992025911808),\n",
       " ('dulcimer', 0.03611190989613533),\n",
       " ('spectrophotometer', 0.036025699228048325),\n",
       " ('quicklime', 0.034184977412223816),\n",
       " ('falsify', 0.03385183960199356),\n",
       " ('collimator', 0.03331197798252106),\n",
       " ('thaler', 0.032644812017679214),\n",
       " ('actuator', 0.03256308287382126),\n",
       " ('condenser', 0.03200327977538109),\n",
       " ('evaporator', 0.031164931133389473),\n",
       " ('preparation', 0.0309236291795969),\n",
       " ('barometric', 0.030836697667837143),\n",
       " ('photodetector', 0.030612783506512642),\n",
       " ('refrigerated', 0.03030555322766304),\n",
       " ('aerator', 0.030204428359866142),\n",
       " ('utility', 0.030180862173438072),\n",
       " ('stover', 0.030054882168769836)]"
      ]
     },
     "execution_count": 62,
     "metadata": {},
     "output_type": "execute_result"
    }
   ],
   "source": [
    "words, idx, probs = getPredFromDesc(model, 'something you use to measure your temperature', 5, 100)\n",
    "[(word, prob.item()) for word, prob in zip(words, probs)]"
   ]
  },
  {
   "cell_type": "code",
   "execution_count": null,
   "metadata": {},
   "outputs": [],
   "source": []
  },
  {
   "cell_type": "code",
   "execution_count": null,
   "metadata": {},
   "outputs": [],
   "source": []
  },
  {
   "cell_type": "code",
   "execution_count": null,
   "metadata": {},
   "outputs": [],
   "source": []
  },
  {
   "cell_type": "code",
   "execution_count": null,
   "metadata": {},
   "outputs": [],
   "source": []
  },
  {
   "cell_type": "code",
   "execution_count": null,
   "metadata": {},
   "outputs": [],
   "source": []
  }
 ],
 "metadata": {
  "kernelspec": {
   "display_name": "Environment (conda_pytorch_latest_p37)",
   "language": "python",
   "name": "conda_pytorch_latest_p37"
  },
  "language_info": {
   "codemirror_mode": {
    "name": "ipython",
    "version": 3
   },
   "file_extension": ".py",
   "mimetype": "text/x-python",
   "name": "python",
   "nbconvert_exporter": "python",
   "pygments_lexer": "ipython3",
   "version": "3.7.10"
  },
  "metadata": {
   "interpreter": {
    "hash": "049faeb3947c48ac1b8702363c1a3bc597f6c2e1e1396be70d54511d980ab606"
   }
  }
 },
 "nbformat": 4,
 "nbformat_minor": 2
}
