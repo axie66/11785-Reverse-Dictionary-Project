{
 "cells": [
  {
   "cell_type": "code",
   "execution_count": 1,
   "metadata": {},
   "outputs": [],
   "source": [
    "import torch\n",
    "from torch import nn\n",
    "import torchtext\n",
    "# Should also first install pytorch-transformers (aka transformers)\n",
    "# See here https://pytorch.org/hub/huggingface_pytorch-transformers/\n",
    "# and here https://huggingface.co/transformers/\n",
    "\n",
    "import pandas as pd\n",
    "\n",
    "from typing import List\n",
    "from tqdm import tqdm\n",
    "\n",
    "# TODO: train on same data as WantWords for consistency\n",
    "# TODO: split data into train/validation sets"
   ]
  },
  {
   "cell_type": "code",
   "execution_count": 2,
   "metadata": {
    "scrolled": false
   },
   "outputs": [
    {
     "name": "stderr",
     "output_type": "stream",
     "text": [
      "Using cache found in /home/ubuntu/.cache/torch/hub/huggingface_pytorch-transformers_master\n"
     ]
    }
   ],
   "source": [
    "# Download vocabulary from S3 and cache.\n",
    "tokenizer = torch.hub.load('huggingface/pytorch-transformers', 'tokenizer', 'bert-base-uncased')    "
   ]
  },
  {
   "cell_type": "code",
   "execution_count": 3,
   "metadata": {},
   "outputs": [
    {
     "name": "stderr",
     "output_type": "stream",
     "text": [
      "Using cache found in /home/ubuntu/.cache/torch/hub/huggingface_pytorch-transformers_master\n"
     ]
    }
   ],
   "source": [
    "# Download model and configuration from S3 and cache.\n",
    "bert = torch.hub.load('huggingface/pytorch-transformers', 'model', 'bert-base-uncased')    "
   ]
  },
  {
   "cell_type": "code",
   "execution_count": 4,
   "metadata": {},
   "outputs": [],
   "source": [
    "class BertBaseline(nn.Module):\n",
    "    def __init__(self, embedding_dim, encoder, dropout=0.1):\n",
    "        super(BertBaseline, self).__init__()\n",
    "        self.encoder = encoder # the BERT model\n",
    "        self.dropout = nn.Dropout(dropout) if dropout > 0 else nn.Identity()\n",
    "        self.proj = nn.Linear(768, embedding_dim)\n",
    "        \n",
    "        self._init_weights()\n",
    "    \n",
    "    def _init_weights(self):\n",
    "        nn.init.xavier_normal_(self.proj.weight)\n",
    "        nn.init.zeros_(self.proj.bias)\n",
    "        \n",
    "    def forward(self, x : torch.Tensor, attention_mask : torch.Tensor):\n",
    "        out = self.encoder(x, attention_mask)\n",
    "        encoded = out.get('last_hidden_state')[:,0,:]\n",
    "        return self.proj(self.dropout(encoded))"
   ]
  },
  {
   "cell_type": "code",
   "execution_count": 5,
   "metadata": {},
   "outputs": [],
   "source": [
    "# Just a sanity check\n",
    "test = BertBaseline(300, bert, dropout=0)"
   ]
  },
  {
   "cell_type": "code",
   "execution_count": 6,
   "metadata": {},
   "outputs": [],
   "source": [
    "text1 = \"Somebody once told me the world is gonna roll me\"\n",
    "text2 = \"I ain't the sharpest tool in the shed\"\n",
    "text3 = \"She was looking kinda dumb with her finger and her thumb\"\n",
    "text4 = \"In the shape of an L on her forehead\"\n",
    "\n",
    "text = [text1, text2, text3, text4]\n",
    "text = sorted(text, key=lambda s: len(s), reverse=True)"
   ]
  },
  {
   "cell_type": "code",
   "execution_count": 7,
   "metadata": {},
   "outputs": [
    {
     "data": {
      "text/plain": [
       "(tensor([[ 1.6856e-01,  7.2188e-01, -7.7491e-02,  ..., -2.1487e+00,\n",
       "           2.7892e-01,  2.5139e-01],\n",
       "         [ 7.4780e-01,  8.5869e-01,  2.2149e-01,  ..., -2.0921e+00,\n",
       "          -2.2286e-01,  6.5578e-01],\n",
       "         [ 4.7138e-01,  9.4186e-01, -8.1584e-02,  ..., -2.2126e+00,\n",
       "          -4.6096e-02,  5.4382e-01],\n",
       "         [ 6.5845e-01,  7.2304e-01, -9.1304e-04,  ..., -2.2000e+00,\n",
       "           9.5521e-02,  1.8670e-01]], grad_fn=<AddmmBackward>),\n",
       " torch.Size([4, 300]))"
      ]
     },
     "execution_count": 7,
     "metadata": {},
     "output_type": "execute_result"
    }
   ],
   "source": [
    "tokens = tokenizer(text, return_tensors='pt', padding=True)\n",
    "sentence_vectors = test(tokens.input_ids, tokens.attention_mask)\n",
    "sentence_vectors, sentence_vectors.shape"
   ]
  },
  {
   "cell_type": "code",
   "execution_count": 8,
   "metadata": {},
   "outputs": [],
   "source": [
    "del test"
   ]
  },
  {
   "cell_type": "code",
   "execution_count": 9,
   "metadata": {},
   "outputs": [],
   "source": [
    "dict_data_path = 'data/dictionary/reverse-dict-singleton.tsv'\n",
    "\n",
    "glove_embed_dim = 300 # other options are 100, 200, 300\n",
    "# glove_embed_path = f'../data/glove_embed/glove.6B.{glove_embed_dim}d.txt'"
   ]
  },
  {
   "cell_type": "code",
   "execution_count": 10,
   "metadata": {},
   "outputs": [],
   "source": [
    "# Load dictionary data\n",
    "# Assuming the .tsv files from Prof Oflazer are placed in the data/dictionary folder\n",
    "dict_data = pd.read_csv(dict_data_path, sep='\\t', header=None)"
   ]
  },
  {
   "cell_type": "code",
   "execution_count": 11,
   "metadata": {},
   "outputs": [],
   "source": [
    "# Load pretrained GloVe embeddings\n",
    "# Download them from http://nlp.stanford.edu/data/glove.6B.zip\n",
    "# and place them in the data/glove_embed folder\n",
    "# WantWords used word2vec, could try that instead\n",
    "\n",
    "# glove_embed = torchtext.vocab.Vectors(glove_embed_path)\n",
    "glove_embed = torchtext.vocab.GloVe(name='6B', dim=glove_embed_dim)"
   ]
  },
  {
   "cell_type": "code",
   "execution_count": 12,
   "metadata": {},
   "outputs": [],
   "source": [
    "# Modified version of dataset class\n",
    "class DictDataset(torch.utils.data.Dataset):    \n",
    "    def __init__(self, definitions, embeddings, embedding_dim, tokenizer):\n",
    "        super(DictDataset, self).__init__()\n",
    "        self.tokenizer = tokenizer\n",
    "        \n",
    "        self.embedding_dim = embedding_dim\n",
    "        self.embeddings = embeddings\n",
    "        \n",
    "        f = lambda x: not torch.all(embeddings.get_vecs_by_tokens([x]) == 0)\n",
    "        # Filter out words that do not have embeddings\n",
    "        self.definitions = definitions.loc[definitions[0].apply(f)]\n",
    "        self.definitions.index = pd.RangeIndex(len(self.definitions.index))\n",
    "        \n",
    "    def __getitem__(self, i):\n",
    "        word, definition = self.definitions.loc[i] # word/definition, in plain text form\n",
    "        return definition, word\n",
    "    \n",
    "    def __len__(self):\n",
    "        return len(self.definitions)\n",
    "    \n",
    "    def collate_fn(self, batch):\n",
    "        #batch.sort(key=lambda elem: len(elem[0]), reverse=True)\n",
    "        Xs = self.tokenizer([x for x, _ in batch], return_tensors='pt', padding=True)\n",
    "        Ys = self.embeddings.get_vecs_by_tokens([y for _, y in batch])\n",
    "        return (Xs, Ys)"
   ]
  },
  {
   "cell_type": "code",
   "execution_count": 13,
   "metadata": {},
   "outputs": [],
   "source": [
    "data = DictDataset(dict_data, glove_embed, 300, tokenizer)\n",
    "\n",
    "batch_size = 96\n",
    "num_workers = 4\n",
    "loader = torch.utils.data.DataLoader(data, shuffle=True, \n",
    "                batch_size=batch_size, num_workers=num_workers,collate_fn=data.collate_fn)"
   ]
  },
  {
   "cell_type": "code",
   "execution_count": 14,
   "metadata": {},
   "outputs": [],
   "source": [
    "model = BertBaseline(300, bert, dropout=0.2)\n",
    "device = torch.device('cuda' if torch.cuda.is_available() else 'cpu')\n",
    "model = model.to(device)"
   ]
  },
  {
   "cell_type": "code",
   "execution_count": 15,
   "metadata": {},
   "outputs": [],
   "source": [
    "criterion = nn.CosineSimilarity()\n",
    "\n",
    "lr = 1e-4\n",
    "optim = torch.optim.Adam(model.parameters(), lr=lr)\n",
    "scheduler = torch.optim.lr_scheduler.ReduceLROnPlateau(optim, factor=0.1, patience=3, verbose=True)\n",
    "epochs = 20"
   ]
  },
  {
   "cell_type": "code",
   "execution_count": 16,
   "metadata": {},
   "outputs": [
    {
     "name": "stderr",
     "output_type": "stream",
     "text": [
      "Epoch 1, Loss: 0.6615722179412842: 100%|██████████| 322/322 [03:43<00:00,  1.44it/s]\n",
      "Epoch 2, Loss: 0.5756843686103821: 100%|██████████| 322/322 [03:43<00:00,  1.44it/s]\n",
      "Epoch 3, Loss: 0.5264729857444763: 100%|██████████| 322/322 [03:42<00:00,  1.45it/s]\n",
      "Epoch 4, Loss: 0.4842697083950043: 100%|██████████| 322/322 [03:44<00:00,  1.43it/s] \n",
      "Epoch 5, Loss: 0.44507652521133423: 100%|██████████| 322/322 [03:46<00:00,  1.42it/s]\n",
      "Epoch 6, Loss: 0.4065987169742584: 100%|██████████| 322/322 [03:44<00:00,  1.43it/s] \n",
      "Epoch 7, Loss: 0.3691914975643158: 100%|██████████| 322/322 [03:42<00:00,  1.45it/s] \n",
      "Epoch 8, Loss: 0.3336370289325714: 100%|██████████| 322/322 [03:44<00:00,  1.44it/s] \n",
      "Epoch 9, Loss: 0.3020656406879425: 100%|██████████| 322/322 [03:46<00:00,  1.42it/s] \n",
      "Epoch 10, Loss: 0.27435004711151123: 100%|██████████| 322/322 [03:38<00:00,  1.47it/s]\n",
      "Epoch 11, Loss: 0.2503136992454529: 100%|██████████| 322/322 [03:39<00:00,  1.47it/s] \n",
      "Epoch 12, Loss: 0.23022735118865967: 100%|██████████| 322/322 [03:43<00:00,  1.44it/s]\n",
      "Epoch 13, Loss: 0.213185116648674: 100%|██████████| 322/322 [03:46<00:00,  1.42it/s]  \n",
      "Epoch 14, Loss: 0.1992495059967041: 100%|██████████| 322/322 [03:42<00:00,  1.45it/s] \n",
      "Epoch 15, Loss: 0.18777494132518768: 100%|██████████| 322/322 [03:43<00:00,  1.44it/s]\n",
      "Epoch 16, Loss: 0.17783407866954803: 100%|██████████| 322/322 [03:46<00:00,  1.42it/s]\n",
      "Epoch 17, Loss: 0.1696184277534485: 100%|██████████| 322/322 [03:45<00:00,  1.43it/s] \n",
      "Epoch 18, Loss: 0.1628103107213974: 100%|██████████| 322/322 [03:44<00:00,  1.44it/s] \n",
      "Epoch 19, Loss: 0.1572929322719574: 100%|██████████| 322/322 [03:42<00:00,  1.44it/s] \n",
      "Epoch 20, Loss: 0.15245620906352997: 100%|██████████| 322/322 [03:45<00:00,  1.43it/s]\n"
     ]
    }
   ],
   "source": [
    "inc = 10\n",
    "losses = []\n",
    "\n",
    "for epoch in range(epochs):\n",
    "    model.train()\n",
    "    train_loss = 0.0\n",
    "    with tqdm(total=len(loader)) as pbar:\n",
    "        for i, (x, y) in enumerate(loader):\n",
    "            if i % inc == 0:\n",
    "                pbar.set_description(f'Epoch {epoch+1}, Loss: {train_loss / max(i, 1)}')\n",
    "\n",
    "            optim.zero_grad()\n",
    "\n",
    "            x, attention_mask = x.input_ids.to(device), x.attention_mask.to(device)\n",
    "            y = y.to(device)\n",
    "\n",
    "            out = model(x, attention_mask)\n",
    "\n",
    "            loss = 1 - criterion(out, y).sum() / len(x)\n",
    "            loss.backward()\n",
    "\n",
    "            optim.step()\n",
    "            \n",
    "            train_loss += loss.detach()\n",
    "            \n",
    "            pbar.update(1)\n",
    "            \n",
    "            del x, y, out, loss\n",
    "            if i % 20 == 0:\n",
    "                torch.cuda.empty_cache()\n",
    "        \n",
    "        scheduler.step(train_loss)\n",
    "    losses.append(train_loss)\n",
    "        "
   ]
  },
  {
   "cell_type": "code",
   "execution_count": null,
   "metadata": {},
   "outputs": [],
   "source": []
  },
  {
   "cell_type": "code",
   "execution_count": null,
   "metadata": {},
   "outputs": [],
   "source": []
  },
  {
   "cell_type": "code",
   "execution_count": 109,
   "metadata": {},
   "outputs": [],
   "source": []
  },
  {
   "cell_type": "code",
   "execution_count": null,
   "metadata": {},
   "outputs": [],
   "source": []
  },
  {
   "cell_type": "code",
   "execution_count": 17,
   "metadata": {},
   "outputs": [],
   "source": [
    " torch.save(model, 'bert_baseline1.pt')   "
   ]
  },
  {
   "cell_type": "code",
   "execution_count": 110,
   "metadata": {},
   "outputs": [],
   "source": []
  },
  {
   "cell_type": "code",
   "execution_count": null,
   "metadata": {},
   "outputs": [],
   "source": []
  },
  {
   "cell_type": "code",
   "execution_count": 130,
   "metadata": {},
   "outputs": [
    {
     "name": "stdout",
     "output_type": "stream",
     "text": [
      "semiautomatic\n",
      "firearm\n",
      "shotguns\n",
      "handguns\n",
      "submachine\n",
      "caliber\n",
      "handgun\n",
      "9mm\n",
      "pistol\n",
      "ak-47\n",
      "semi-automatic\n",
      ".22\n",
      "rifles\n",
      "revolvers\n",
      "chambered\n",
      "12-gauge\n",
      "7.62\n",
      "pistols\n",
      ".223\n",
      "rifle\n",
      ".38\n",
      "revolver\n",
      "anti-tank\n",
      "smoothbore\n",
      "kalashnikov\n",
      "musket\n",
      "ak-47s\n",
      "gun\n",
      "m-16\n",
      "firearms\n",
      "9-millimeter\n",
      "carbine\n",
      "shotgun\n",
      "autocannon\n",
      "bushmaster\n",
      "gas-operated\n",
      "recoilless\n",
      "calibre\n",
      "silencers\n",
      "x51mm\n",
      "parabellum\n",
      "cartridge\n",
      ".50\n",
      "launchers\n",
      "anti-aircraft\n",
      "ciws\n",
      "launcher\n",
      "ar-15\n",
      "guns\n",
      "glock\n"
     ]
    }
   ],
   "source": [
    "# Informally test the model\n",
    "model.eval()\n",
    "x, y = data.collate_fn([(\"kind of gun\", 'n/a')]) \n",
    "# there seem to be a lot of gun-related entries in the dictionary...\n",
    "out = model(x.input_ids.to(device), x.attention_mask.to(device))\n",
    "\n",
    "# Get most likely words\n",
    "logits = out.cpu() @ glove_embed.vectors.T\n",
    "result, indices = torch.sort(logits, descending=True)\n",
    "indices[0], result[0]\n",
    "\n",
    "for i in range(50):\n",
    "    j = indices[0][i]\n",
    "    print(glove_embed.itos[int(j)])"
   ]
  },
  {
   "cell_type": "code",
   "execution_count": 118,
   "metadata": {},
   "outputs": [
    {
     "data": {
      "image/png": "[encoded data removed]",
      "text/plain": [
       "<Figure size 432x288 with 1 Axes>"
      ]
     },
     "metadata": {
      "needs_background": "light"
     },
     "output_type": "display_data"
    }
   ],
   "source": [
    "from matplotlib import pyplot as plt\n",
    "%matplotlib inline\n",
    "\n",
    "epochs = torch.arange(1, 21)\n",
    "losses = torch.tensor([0.6615722179412842, 0.5756843686103821, 0.5264729857444763, 0.4842697083950043, 0.44507652521133423, 0.4065987169742584, 0.3691914975643158, 0.3336370289325714, 0.3020656406879425, 0.27435004711151123, 0.2503136992454529, 0.23022735118865967, 0.213185116648674, 0.1992495059967041, 0.18777494132518768, 0.17783407866954803, 0.1696184277534485, 0.1628103107213974, 0.1572929322719574, 0.15245620906352997])\n",
    "\n",
    "fig = plt.figure()\n",
    "axes = fig.add_axes([0, 0, 1, 1])\n",
    "axes.plot(epochs, losses)\n",
    "axes.set_title(\"BERT Baseline Loss vs. Epoch\")\n",
    "axes.set_xlabel(\"Epoch\")\n",
    "axes.set_ylabel(\"Loss\")\n",
    "fig.show()"
   ]
  },
  {
   "cell_type": "code",
   "execution_count": null,
   "metadata": {},
   "outputs": [],
   "source": []
  },
  {
   "cell_type": "code",
   "execution_count": null,
   "metadata": {},
   "outputs": [],
   "source": []
  }
 ],
 "metadata": {
  "kernelspec": {
   "display_name": "Python 3.8.0 64-bit",
   "language": "python",
   "name": "python38064bit7cbf060f8ed4487591d975d6fad0a650"
  },
  "language_info": {
   "codemirror_mode": {
    "name": "ipython",
    "version": 3
   },
   "file_extension": ".py",
   "mimetype": "text/x-python",
   "name": "python",
   "nbconvert_exporter": "python",
   "pygments_lexer": "ipython3",
   "version": "3.8.0"
  }
 },
 "nbformat": 4,
 "nbformat_minor": 2
}
